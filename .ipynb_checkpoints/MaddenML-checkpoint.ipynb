{
 "cells": [
  {
   "cell_type": "markdown",
   "metadata": {},
   "source": [
    "Goal for this project is to do my first machine learning project.  \n",
    "\n",
    "Want to take all the stats for Madden 18 players, and see if I can correctly categorize them into offense, defense, or special teams using machine learning. \n",
    "\n",
    "While I think some of it should be pretty easy (for example, only punters should be good at punting), I bet there will be some instance where it is a little more difficult (the difference between wide recievers and corner backs).  \n",
    "\n",
    "Also curious to see how accurate I can get with different amount of data.  My initial reaction is that more data is always better, but it might lead to over fitting.  So could I do it with a little bit of data?\n",
    "\n",
    "Also, think it would be a good way to explore some different ML algorithms.  Conceptiionally, I think SVM and K-means clutering would be good to look at.  But also, maybe decision trees and random forest?  Let's find out"
   ]
  },
  {
   "cell_type": "code",
   "execution_count": 46,
   "metadata": {
    "collapsed": true
   },
   "outputs": [],
   "source": [
    "import pandas as pd\n",
    "import matplotlib as plt\n",
    "import seaborn as sns\n",
    "from sklearn.model_selection import train_test_split\n",
    "\n",
    "%matplotlib inline"
   ]
  },
  {
   "cell_type": "code",
   "execution_count": 2,
   "metadata": {},
   "outputs": [],
   "source": [
    "df = pd.read_csv(\"player_stat_18.csv\")"
   ]
  },
  {
   "cell_type": "code",
   "execution_count": 3,
   "metadata": {},
   "outputs": [
    {
     "data": {
      "text/html": [
       "<div>\n",
       "<style>\n",
       "    .dataframe thead tr:only-child th {\n",
       "        text-align: right;\n",
       "    }\n",
       "\n",
       "    .dataframe thead th {\n",
       "        text-align: left;\n",
       "    }\n",
       "\n",
       "    .dataframe tbody tr th {\n",
       "        vertical-align: top;\n",
       "    }\n",
       "</style>\n",
       "<table border=\"1\" class=\"dataframe\">\n",
       "  <thead>\n",
       "    <tr style=\"text-align: right;\">\n",
       "      <th></th>\n",
       "      <th>Last Name</th>\n",
       "      <th>First Name</th>\n",
       "      <th>Position</th>\n",
       "      <th>Dev Trait</th>\n",
       "      <th>Overall Rating</th>\n",
       "      <th>Speed</th>\n",
       "      <th>Acceleration</th>\n",
       "      <th>Strength</th>\n",
       "      <th>Agility</th>\n",
       "      <th>Awareness</th>\n",
       "      <th>...</th>\n",
       "      <th>Height</th>\n",
       "      <th>Weight</th>\n",
       "      <th>Age</th>\n",
       "      <th>Birthdate</th>\n",
       "      <th>Years Pro</th>\n",
       "      <th>College</th>\n",
       "      <th>Total Salary</th>\n",
       "      <th>Signing Bonus</th>\n",
       "      <th>Handedness</th>\n",
       "      <th>portraitId</th>\n",
       "    </tr>\n",
       "  </thead>\n",
       "  <tbody>\n",
       "    <tr>\n",
       "      <th>0</th>\n",
       "      <td>Juszczyk</td>\n",
       "      <td>Kyle</td>\n",
       "      <td>FB</td>\n",
       "      <td>QUICK</td>\n",
       "      <td>91</td>\n",
       "      <td>82</td>\n",
       "      <td>88</td>\n",
       "      <td>79</td>\n",
       "      <td>78</td>\n",
       "      <td>85</td>\n",
       "      <td>...</td>\n",
       "      <td>73</td>\n",
       "      <td>240</td>\n",
       "      <td>26</td>\n",
       "      <td>4/23/91</td>\n",
       "      <td>4</td>\n",
       "      <td>Harvard</td>\n",
       "      <td>15600000</td>\n",
       "      <td>5000000</td>\n",
       "      <td>Right</td>\n",
       "      <td>6869</td>\n",
       "    </tr>\n",
       "    <tr>\n",
       "      <th>1</th>\n",
       "      <td>Bowman</td>\n",
       "      <td>NaVorro</td>\n",
       "      <td>MLB</td>\n",
       "      <td>STAR</td>\n",
       "      <td>88</td>\n",
       "      <td>83</td>\n",
       "      <td>87</td>\n",
       "      <td>80</td>\n",
       "      <td>83</td>\n",
       "      <td>90</td>\n",
       "      <td>...</td>\n",
       "      <td>72</td>\n",
       "      <td>242</td>\n",
       "      <td>29</td>\n",
       "      <td>5/28/88</td>\n",
       "      <td>7</td>\n",
       "      <td>Penn State</td>\n",
       "      <td>42750000</td>\n",
       "      <td>10000000</td>\n",
       "      <td>Left</td>\n",
       "      <td>480</td>\n",
       "    </tr>\n",
       "    <tr>\n",
       "      <th>2</th>\n",
       "      <td>Garcon</td>\n",
       "      <td>Pierre</td>\n",
       "      <td>WR</td>\n",
       "      <td>-</td>\n",
       "      <td>85</td>\n",
       "      <td>89</td>\n",
       "      <td>91</td>\n",
       "      <td>66</td>\n",
       "      <td>87</td>\n",
       "      <td>92</td>\n",
       "      <td>...</td>\n",
       "      <td>72</td>\n",
       "      <td>211</td>\n",
       "      <td>31</td>\n",
       "      <td>8/8/86</td>\n",
       "      <td>9</td>\n",
       "      <td>Mount Union</td>\n",
       "      <td>35000000</td>\n",
       "      <td>7000000</td>\n",
       "      <td>Right</td>\n",
       "      <td>1209</td>\n",
       "    </tr>\n",
       "    <tr>\n",
       "      <th>3</th>\n",
       "      <td>Dumervil</td>\n",
       "      <td>Elvis</td>\n",
       "      <td>RE</td>\n",
       "      <td>-</td>\n",
       "      <td>83</td>\n",
       "      <td>75</td>\n",
       "      <td>82</td>\n",
       "      <td>78</td>\n",
       "      <td>78</td>\n",
       "      <td>91</td>\n",
       "      <td>...</td>\n",
       "      <td>71</td>\n",
       "      <td>255</td>\n",
       "      <td>33</td>\n",
       "      <td>1/19/84</td>\n",
       "      <td>11</td>\n",
       "      <td>Louisville</td>\n",
       "      <td>5000000</td>\n",
       "      <td>2000000</td>\n",
       "      <td>Right</td>\n",
       "      <td>1004</td>\n",
       "    </tr>\n",
       "    <tr>\n",
       "      <th>4</th>\n",
       "      <td>Hyde</td>\n",
       "      <td>Carlos</td>\n",
       "      <td>HB</td>\n",
       "      <td>-</td>\n",
       "      <td>83</td>\n",
       "      <td>88</td>\n",
       "      <td>90</td>\n",
       "      <td>81</td>\n",
       "      <td>91</td>\n",
       "      <td>84</td>\n",
       "      <td>...</td>\n",
       "      <td>72</td>\n",
       "      <td>228</td>\n",
       "      <td>26</td>\n",
       "      <td>9/20/90</td>\n",
       "      <td>3</td>\n",
       "      <td>Ohio State</td>\n",
       "      <td>3600000</td>\n",
       "      <td>1600000</td>\n",
       "      <td>Right</td>\n",
       "      <td>6456</td>\n",
       "    </tr>\n",
       "  </tbody>\n",
       "</table>\n",
       "<p>5 rows × 63 columns</p>\n",
       "</div>"
      ],
      "text/plain": [
       "  Last Name First Name Position Dev Trait  Overall Rating  Speed  \\\n",
       "0  Juszczyk       Kyle       FB     QUICK              91     82   \n",
       "1    Bowman    NaVorro      MLB      STAR              88     83   \n",
       "2    Garcon     Pierre       WR         -              85     89   \n",
       "3  Dumervil      Elvis       RE         -              83     75   \n",
       "4      Hyde     Carlos       HB         -              83     88   \n",
       "\n",
       "   Acceleration  Strength  Agility  Awareness     ...      Height  Weight  \\\n",
       "0            88        79       78         85     ...          73     240   \n",
       "1            87        80       83         90     ...          72     242   \n",
       "2            91        66       87         92     ...          72     211   \n",
       "3            82        78       78         91     ...          71     255   \n",
       "4            90        81       91         84     ...          72     228   \n",
       "\n",
       "   Age  Birthdate  Years Pro      College  Total Salary  Signing Bonus  \\\n",
       "0   26    4/23/91          4      Harvard      15600000        5000000   \n",
       "1   29    5/28/88          7   Penn State      42750000       10000000   \n",
       "2   31     8/8/86          9  Mount Union      35000000        7000000   \n",
       "3   33    1/19/84         11   Louisville       5000000        2000000   \n",
       "4   26    9/20/90          3   Ohio State       3600000        1600000   \n",
       "\n",
       "   Handedness  portraitId  \n",
       "0       Right        6869  \n",
       "1        Left         480  \n",
       "2       Right        1209  \n",
       "3       Right        1004  \n",
       "4       Right        6456  \n",
       "\n",
       "[5 rows x 63 columns]"
      ]
     },
     "execution_count": 3,
     "metadata": {},
     "output_type": "execute_result"
    }
   ],
   "source": [
    "df.head()"
   ]
  },
  {
   "cell_type": "code",
   "execution_count": 4,
   "metadata": {},
   "outputs": [
    {
     "data": {
      "text/html": [
       "<div>\n",
       "<style>\n",
       "    .dataframe thead tr:only-child th {\n",
       "        text-align: right;\n",
       "    }\n",
       "\n",
       "    .dataframe thead th {\n",
       "        text-align: left;\n",
       "    }\n",
       "\n",
       "    .dataframe tbody tr th {\n",
       "        vertical-align: top;\n",
       "    }\n",
       "</style>\n",
       "<table border=\"1\" class=\"dataframe\">\n",
       "  <thead>\n",
       "    <tr style=\"text-align: right;\">\n",
       "      <th></th>\n",
       "      <th>Last Name</th>\n",
       "      <th>First Name</th>\n",
       "      <th>Position</th>\n",
       "      <th>Dev Trait</th>\n",
       "      <th>Overall Rating</th>\n",
       "      <th>Speed</th>\n",
       "      <th>Acceleration</th>\n",
       "      <th>Strength</th>\n",
       "      <th>Agility</th>\n",
       "      <th>Awareness</th>\n",
       "      <th>...</th>\n",
       "      <th>Height</th>\n",
       "      <th>Weight</th>\n",
       "      <th>Age</th>\n",
       "      <th>Birthdate</th>\n",
       "      <th>Years Pro</th>\n",
       "      <th>College</th>\n",
       "      <th>Total Salary</th>\n",
       "      <th>Signing Bonus</th>\n",
       "      <th>Handedness</th>\n",
       "      <th>portraitId</th>\n",
       "    </tr>\n",
       "  </thead>\n",
       "  <tbody>\n",
       "    <tr>\n",
       "      <th>2348</th>\n",
       "      <td>Wilson</td>\n",
       "      <td>Eric</td>\n",
       "      <td>LOLB</td>\n",
       "      <td>-</td>\n",
       "      <td>61</td>\n",
       "      <td>86</td>\n",
       "      <td>90</td>\n",
       "      <td>74</td>\n",
       "      <td>85</td>\n",
       "      <td>50</td>\n",
       "      <td>...</td>\n",
       "      <td>74</td>\n",
       "      <td>225</td>\n",
       "      <td>22</td>\n",
       "      <td>9/26/94</td>\n",
       "      <td>0</td>\n",
       "      <td>Cincinnati</td>\n",
       "      <td>1665000</td>\n",
       "      <td>0</td>\n",
       "      <td>Right</td>\n",
       "      <td>0</td>\n",
       "    </tr>\n",
       "    <tr>\n",
       "      <th>2349</th>\n",
       "      <td>Heinicke</td>\n",
       "      <td>Taylor</td>\n",
       "      <td>QB</td>\n",
       "      <td>-</td>\n",
       "      <td>58</td>\n",
       "      <td>84</td>\n",
       "      <td>83</td>\n",
       "      <td>53</td>\n",
       "      <td>78</td>\n",
       "      <td>52</td>\n",
       "      <td>...</td>\n",
       "      <td>73</td>\n",
       "      <td>210</td>\n",
       "      <td>24</td>\n",
       "      <td>3/15/93</td>\n",
       "      <td>2</td>\n",
       "      <td>Old Dominion</td>\n",
       "      <td>1570000</td>\n",
       "      <td>0</td>\n",
       "      <td>Right</td>\n",
       "      <td>7169</td>\n",
       "    </tr>\n",
       "    <tr>\n",
       "      <th>2350</th>\n",
       "      <td>Carter</td>\n",
       "      <td>Kyle</td>\n",
       "      <td>TE</td>\n",
       "      <td>-</td>\n",
       "      <td>57</td>\n",
       "      <td>84</td>\n",
       "      <td>86</td>\n",
       "      <td>70</td>\n",
       "      <td>82</td>\n",
       "      <td>40</td>\n",
       "      <td>...</td>\n",
       "      <td>75</td>\n",
       "      <td>245</td>\n",
       "      <td>24</td>\n",
       "      <td>12/17/92</td>\n",
       "      <td>1</td>\n",
       "      <td>Penn State</td>\n",
       "      <td>1020000</td>\n",
       "      <td>0</td>\n",
       "      <td>Right</td>\n",
       "      <td>7941</td>\n",
       "    </tr>\n",
       "    <tr>\n",
       "      <th>2351</th>\n",
       "      <td>Robinson</td>\n",
       "      <td>Edmond</td>\n",
       "      <td>LOLB</td>\n",
       "      <td>-</td>\n",
       "      <td>57</td>\n",
       "      <td>85</td>\n",
       "      <td>88</td>\n",
       "      <td>72</td>\n",
       "      <td>79</td>\n",
       "      <td>45</td>\n",
       "      <td>...</td>\n",
       "      <td>75</td>\n",
       "      <td>245</td>\n",
       "      <td>25</td>\n",
       "      <td>1/1/92</td>\n",
       "      <td>2</td>\n",
       "      <td>Newberry College</td>\n",
       "      <td>1800000</td>\n",
       "      <td>200000</td>\n",
       "      <td>Right</td>\n",
       "      <td>7591</td>\n",
       "    </tr>\n",
       "    <tr>\n",
       "      <th>2352</th>\n",
       "      <td>McDermott</td>\n",
       "      <td>Kevin</td>\n",
       "      <td>TE</td>\n",
       "      <td>-</td>\n",
       "      <td>50</td>\n",
       "      <td>72</td>\n",
       "      <td>81</td>\n",
       "      <td>64</td>\n",
       "      <td>70</td>\n",
       "      <td>60</td>\n",
       "      <td>...</td>\n",
       "      <td>77</td>\n",
       "      <td>240</td>\n",
       "      <td>27</td>\n",
       "      <td>1/12/90</td>\n",
       "      <td>4</td>\n",
       "      <td>UCLA</td>\n",
       "      <td>3960000</td>\n",
       "      <td>0</td>\n",
       "      <td>Right</td>\n",
       "      <td>6779</td>\n",
       "    </tr>\n",
       "  </tbody>\n",
       "</table>\n",
       "<p>5 rows × 63 columns</p>\n",
       "</div>"
      ],
      "text/plain": [
       "      Last Name First Name Position Dev Trait  Overall Rating  Speed  \\\n",
       "2348     Wilson       Eric     LOLB         -              61     86   \n",
       "2349   Heinicke     Taylor       QB         -              58     84   \n",
       "2350     Carter       Kyle       TE         -              57     84   \n",
       "2351   Robinson     Edmond     LOLB         -              57     85   \n",
       "2352  McDermott      Kevin       TE         -              50     72   \n",
       "\n",
       "      Acceleration  Strength  Agility  Awareness     ...      Height  Weight  \\\n",
       "2348            90        74       85         50     ...          74     225   \n",
       "2349            83        53       78         52     ...          73     210   \n",
       "2350            86        70       82         40     ...          75     245   \n",
       "2351            88        72       79         45     ...          75     245   \n",
       "2352            81        64       70         60     ...          77     240   \n",
       "\n",
       "      Age  Birthdate  Years Pro           College  Total Salary  \\\n",
       "2348   22    9/26/94          0        Cincinnati       1665000   \n",
       "2349   24    3/15/93          2      Old Dominion       1570000   \n",
       "2350   24   12/17/92          1        Penn State       1020000   \n",
       "2351   25     1/1/92          2  Newberry College       1800000   \n",
       "2352   27    1/12/90          4              UCLA       3960000   \n",
       "\n",
       "      Signing Bonus  Handedness  portraitId  \n",
       "2348              0       Right           0  \n",
       "2349              0       Right        7169  \n",
       "2350              0       Right        7941  \n",
       "2351         200000       Right        7591  \n",
       "2352              0       Right        6779  \n",
       "\n",
       "[5 rows x 63 columns]"
      ]
     },
     "execution_count": 4,
     "metadata": {},
     "output_type": "execute_result"
    }
   ],
   "source": [
    "df.tail()"
   ]
  },
  {
   "cell_type": "code",
   "execution_count": 5,
   "metadata": {},
   "outputs": [
    {
     "data": {
      "text/html": [
       "<div>\n",
       "<style>\n",
       "    .dataframe thead tr:only-child th {\n",
       "        text-align: right;\n",
       "    }\n",
       "\n",
       "    .dataframe thead th {\n",
       "        text-align: left;\n",
       "    }\n",
       "\n",
       "    .dataframe tbody tr th {\n",
       "        vertical-align: top;\n",
       "    }\n",
       "</style>\n",
       "<table border=\"1\" class=\"dataframe\">\n",
       "  <thead>\n",
       "    <tr style=\"text-align: right;\">\n",
       "      <th></th>\n",
       "      <th>Last Name</th>\n",
       "      <th>First Name</th>\n",
       "      <th>Position</th>\n",
       "      <th>Dev Trait</th>\n",
       "      <th>Overall Rating</th>\n",
       "      <th>Speed</th>\n",
       "      <th>Acceleration</th>\n",
       "      <th>Strength</th>\n",
       "      <th>Agility</th>\n",
       "      <th>Awareness</th>\n",
       "      <th>...</th>\n",
       "      <th>Height</th>\n",
       "      <th>Weight</th>\n",
       "      <th>Age</th>\n",
       "      <th>Birthdate</th>\n",
       "      <th>Years Pro</th>\n",
       "      <th>College</th>\n",
       "      <th>Total Salary</th>\n",
       "      <th>Signing Bonus</th>\n",
       "      <th>Handedness</th>\n",
       "      <th>portraitId</th>\n",
       "    </tr>\n",
       "  </thead>\n",
       "  <tbody>\n",
       "    <tr>\n",
       "      <th>326</th>\n",
       "      <td>Derby</td>\n",
       "      <td>A.J.</td>\n",
       "      <td>TE</td>\n",
       "      <td>-</td>\n",
       "      <td>73</td>\n",
       "      <td>82</td>\n",
       "      <td>86</td>\n",
       "      <td>67</td>\n",
       "      <td>83</td>\n",
       "      <td>55</td>\n",
       "      <td>...</td>\n",
       "      <td>77</td>\n",
       "      <td>255</td>\n",
       "      <td>25</td>\n",
       "      <td>9/20/91</td>\n",
       "      <td>2</td>\n",
       "      <td>Arkansas</td>\n",
       "      <td>2390000</td>\n",
       "      <td>110000</td>\n",
       "      <td>Right</td>\n",
       "      <td>7082</td>\n",
       "    </tr>\n",
       "    <tr>\n",
       "      <th>1406</th>\n",
       "      <td>Ripkowski</td>\n",
       "      <td>Aaron</td>\n",
       "      <td>FB</td>\n",
       "      <td>-</td>\n",
       "      <td>83</td>\n",
       "      <td>82</td>\n",
       "      <td>87</td>\n",
       "      <td>74</td>\n",
       "      <td>66</td>\n",
       "      <td>84</td>\n",
       "      <td>...</td>\n",
       "      <td>73</td>\n",
       "      <td>246</td>\n",
       "      <td>25</td>\n",
       "      <td>1/1/92</td>\n",
       "      <td>2</td>\n",
       "      <td>Oklahoma</td>\n",
       "      <td>1800000</td>\n",
       "      <td>200000</td>\n",
       "      <td>Right</td>\n",
       "      <td>7296</td>\n",
       "    </tr>\n",
       "    <tr>\n",
       "      <th>975</th>\n",
       "      <td>Wentz</td>\n",
       "      <td>Carson</td>\n",
       "      <td>QB</td>\n",
       "      <td>-</td>\n",
       "      <td>79</td>\n",
       "      <td>82</td>\n",
       "      <td>87</td>\n",
       "      <td>72</td>\n",
       "      <td>82</td>\n",
       "      <td>77</td>\n",
       "      <td>...</td>\n",
       "      <td>77</td>\n",
       "      <td>237</td>\n",
       "      <td>24</td>\n",
       "      <td>12/30/92</td>\n",
       "      <td>1</td>\n",
       "      <td>North Dakota St.</td>\n",
       "      <td>26500000</td>\n",
       "      <td>17500000</td>\n",
       "      <td>Right</td>\n",
       "      <td>8258</td>\n",
       "    </tr>\n",
       "    <tr>\n",
       "      <th>973</th>\n",
       "      <td>Burton</td>\n",
       "      <td>Trey</td>\n",
       "      <td>TE</td>\n",
       "      <td>-</td>\n",
       "      <td>79</td>\n",
       "      <td>86</td>\n",
       "      <td>88</td>\n",
       "      <td>64</td>\n",
       "      <td>90</td>\n",
       "      <td>76</td>\n",
       "      <td>...</td>\n",
       "      <td>75</td>\n",
       "      <td>235</td>\n",
       "      <td>25</td>\n",
       "      <td>10/29/91</td>\n",
       "      <td>3</td>\n",
       "      <td>Florida</td>\n",
       "      <td>2746000</td>\n",
       "      <td>0</td>\n",
       "      <td>Right</td>\n",
       "      <td>6371</td>\n",
       "    </tr>\n",
       "    <tr>\n",
       "      <th>1502</th>\n",
       "      <td>Gradkowski</td>\n",
       "      <td>Gino</td>\n",
       "      <td>C</td>\n",
       "      <td>-</td>\n",
       "      <td>71</td>\n",
       "      <td>62</td>\n",
       "      <td>79</td>\n",
       "      <td>85</td>\n",
       "      <td>68</td>\n",
       "      <td>76</td>\n",
       "      <td>...</td>\n",
       "      <td>75</td>\n",
       "      <td>300</td>\n",
       "      <td>28</td>\n",
       "      <td>11/5/88</td>\n",
       "      <td>5</td>\n",
       "      <td>Delaware</td>\n",
       "      <td>2650000</td>\n",
       "      <td>400000</td>\n",
       "      <td>Right</td>\n",
       "      <td>5827</td>\n",
       "    </tr>\n",
       "  </tbody>\n",
       "</table>\n",
       "<p>5 rows × 63 columns</p>\n",
       "</div>"
      ],
      "text/plain": [
       "       Last Name First Name Position Dev Trait  Overall Rating  Speed  \\\n",
       "326        Derby       A.J.       TE         -              73     82   \n",
       "1406   Ripkowski      Aaron       FB         -              83     82   \n",
       "975        Wentz     Carson       QB         -              79     82   \n",
       "973       Burton       Trey       TE         -              79     86   \n",
       "1502  Gradkowski       Gino        C         -              71     62   \n",
       "\n",
       "      Acceleration  Strength  Agility  Awareness     ...      Height  Weight  \\\n",
       "326             86        67       83         55     ...          77     255   \n",
       "1406            87        74       66         84     ...          73     246   \n",
       "975             87        72       82         77     ...          77     237   \n",
       "973             88        64       90         76     ...          75     235   \n",
       "1502            79        85       68         76     ...          75     300   \n",
       "\n",
       "      Age  Birthdate  Years Pro           College  Total Salary  \\\n",
       "326    25    9/20/91          2          Arkansas       2390000   \n",
       "1406   25     1/1/92          2          Oklahoma       1800000   \n",
       "975    24   12/30/92          1  North Dakota St.      26500000   \n",
       "973    25   10/29/91          3           Florida       2746000   \n",
       "1502   28    11/5/88          5          Delaware       2650000   \n",
       "\n",
       "      Signing Bonus  Handedness  portraitId  \n",
       "326          110000       Right        7082  \n",
       "1406         200000       Right        7296  \n",
       "975        17500000       Right        8258  \n",
       "973               0       Right        6371  \n",
       "1502         400000       Right        5827  \n",
       "\n",
       "[5 rows x 63 columns]"
      ]
     },
     "execution_count": 5,
     "metadata": {},
     "output_type": "execute_result"
    }
   ],
   "source": [
    "df.sample(5)"
   ]
  },
  {
   "cell_type": "code",
   "execution_count": 6,
   "metadata": {},
   "outputs": [
    {
     "data": {
      "text/plain": [
       "Index(['Last Name', 'First Name', 'Position', 'Dev Trait', 'Overall Rating',\n",
       "       'Speed', 'Acceleration', 'Strength', 'Agility', 'Awareness', 'Catching',\n",
       "       'Carrying', 'Throw Power', 'Throw Accuracy', 'Kick Power',\n",
       "       'Kick Accuracy', 'Run Block', 'Pass Block', 'Tackle', 'Jumping',\n",
       "       'Kick Return', 'Injury', 'Stamina', 'Toughness', 'Trucking',\n",
       "       'Elusiveness', 'Ball Carrier Vision', 'Stiff Arm', 'Spin Move',\n",
       "       'Juke Move', 'Impact Blocking', 'Run Block Strength',\n",
       "       'Run Block Footwork', 'Pass Block Strength', 'Pass Block Footwork',\n",
       "       'Power Moves', 'Finesse Moves', 'Block Shedding', 'Pursuit',\n",
       "       'Play Recognition', 'Man Coverage', 'Zone Coverage',\n",
       "       'Spectacular Catch', 'Catch In Traffic', 'Route Running', 'Hit Power',\n",
       "       'Press', 'Release', 'Throw Accuracy Short', 'Throw Accuracy Mid',\n",
       "       'Throw Accuracy Deep', 'Play Action', 'Throw on the Run', 'Height',\n",
       "       'Weight', 'Age', 'Birthdate', 'Years Pro', 'College', 'Total Salary',\n",
       "       'Signing Bonus', 'Handedness', 'portraitId'],\n",
       "      dtype='object')"
      ]
     },
     "execution_count": 6,
     "metadata": {},
     "output_type": "execute_result"
    }
   ],
   "source": [
    "df.columns"
   ]
  },
  {
   "cell_type": "code",
   "execution_count": 7,
   "metadata": {},
   "outputs": [],
   "source": [
    "pos_list = list(df['Position'].unique())"
   ]
  },
  {
   "cell_type": "code",
   "execution_count": 8,
   "metadata": {},
   "outputs": [
    {
     "name": "stdout",
     "output_type": "stream",
     "text": [
      "['FB', 'MLB', 'WR', 'RE', 'HB', 'LT', 'FS', 'LE', 'DT', 'SS', 'ROLB', 'TE', 'K', 'CB', 'LOLB', 'RT', 'QB', 'P', 'C', 'LG', 'RG']\n"
     ]
    }
   ],
   "source": [
    "print(pos_list)"
   ]
  },
  {
   "cell_type": "code",
   "execution_count": 9,
   "metadata": {},
   "outputs": [
    {
     "name": "stdout",
     "output_type": "stream",
     "text": [
      "['C', 'CB', 'DT', 'FB', 'FS', 'HB', 'K', 'LE', 'LG', 'LOLB', 'LT', 'MLB', 'P', 'QB', 'RE', 'RG', 'ROLB', 'RT', 'SS', 'TE', 'WR']\n"
     ]
    }
   ],
   "source": [
    "pos_list.sort()\n",
    "print(pos_list)"
   ]
  },
  {
   "cell_type": "code",
   "execution_count": 15,
   "metadata": {
    "collapsed": true
   },
   "outputs": [],
   "source": [
    "off_pos_list = ['C','FB','HB','LG','LT','QB','RG','RT','TE','WR']\n",
    "def_pos_list = ['CB','DT','FS','LE','LOLB','MLB','RE','ROLB','SS']\n",
    "sTeams_pos_list = ['K','P']"
   ]
  },
  {
   "cell_type": "code",
   "execution_count": 16,
   "metadata": {},
   "outputs": [
    {
     "data": {
      "text/plain": [
       "21"
      ]
     },
     "execution_count": 16,
     "metadata": {},
     "output_type": "execute_result"
    }
   ],
   "source": [
    "len(pos_list)"
   ]
  },
  {
   "cell_type": "code",
   "execution_count": 17,
   "metadata": {},
   "outputs": [
    {
     "data": {
      "text/plain": [
       "21"
      ]
     },
     "execution_count": 17,
     "metadata": {},
     "output_type": "execute_result"
    }
   ],
   "source": [
    "len(off_pos_list+def_pos_list+sTeams_pos_list)"
   ]
  },
  {
   "cell_type": "code",
   "execution_count": 18,
   "metadata": {},
   "outputs": [],
   "source": [
    "def define_pos(x):\n",
    "    if x in off_pos_list:\n",
    "        return('Off')\n",
    "    if x in def_pos_list:\n",
    "        return('Def')\n",
    "    if x in sTeams_pos_list:\n",
    "        return('sTeams')\n",
    "    else:\n",
    "        return(\"Missing\")"
   ]
  },
  {
   "cell_type": "code",
   "execution_count": 19,
   "metadata": {
    "collapsed": true
   },
   "outputs": [],
   "source": [
    "df['pos_class'] = df['Position'].apply(define_pos)\n",
    "#need to write up a little bit better how the apply function works\n",
    "\n",
    "#create a new colum named pos_class\n",
    "#for the the position column, call the define pos function \n",
    "\n",
    "#need to double check how it working for the colums, not the rows"
   ]
  },
  {
   "cell_type": "code",
   "execution_count": 20,
   "metadata": {},
   "outputs": [
    {
     "data": {
      "text/html": [
       "<div>\n",
       "<style>\n",
       "    .dataframe thead tr:only-child th {\n",
       "        text-align: right;\n",
       "    }\n",
       "\n",
       "    .dataframe thead th {\n",
       "        text-align: left;\n",
       "    }\n",
       "\n",
       "    .dataframe tbody tr th {\n",
       "        vertical-align: top;\n",
       "    }\n",
       "</style>\n",
       "<table border=\"1\" class=\"dataframe\">\n",
       "  <thead>\n",
       "    <tr style=\"text-align: right;\">\n",
       "      <th></th>\n",
       "      <th>Position</th>\n",
       "      <th>pos_class</th>\n",
       "    </tr>\n",
       "  </thead>\n",
       "  <tbody>\n",
       "    <tr>\n",
       "      <th>0</th>\n",
       "      <td>FB</td>\n",
       "      <td>Off</td>\n",
       "    </tr>\n",
       "    <tr>\n",
       "      <th>1</th>\n",
       "      <td>MLB</td>\n",
       "      <td>Def</td>\n",
       "    </tr>\n",
       "    <tr>\n",
       "      <th>2</th>\n",
       "      <td>WR</td>\n",
       "      <td>Off</td>\n",
       "    </tr>\n",
       "    <tr>\n",
       "      <th>3</th>\n",
       "      <td>RE</td>\n",
       "      <td>Def</td>\n",
       "    </tr>\n",
       "    <tr>\n",
       "      <th>4</th>\n",
       "      <td>HB</td>\n",
       "      <td>Off</td>\n",
       "    </tr>\n",
       "    <tr>\n",
       "      <th>5</th>\n",
       "      <td>LT</td>\n",
       "      <td>Off</td>\n",
       "    </tr>\n",
       "    <tr>\n",
       "      <th>6</th>\n",
       "      <td>HB</td>\n",
       "      <td>Off</td>\n",
       "    </tr>\n",
       "    <tr>\n",
       "      <th>7</th>\n",
       "      <td>FS</td>\n",
       "      <td>Def</td>\n",
       "    </tr>\n",
       "    <tr>\n",
       "      <th>8</th>\n",
       "      <td>LE</td>\n",
       "      <td>Def</td>\n",
       "    </tr>\n",
       "    <tr>\n",
       "      <th>9</th>\n",
       "      <td>DT</td>\n",
       "      <td>Def</td>\n",
       "    </tr>\n",
       "    <tr>\n",
       "      <th>10</th>\n",
       "      <td>SS</td>\n",
       "      <td>Def</td>\n",
       "    </tr>\n",
       "    <tr>\n",
       "      <th>11</th>\n",
       "      <td>LE</td>\n",
       "      <td>Def</td>\n",
       "    </tr>\n",
       "    <tr>\n",
       "      <th>12</th>\n",
       "      <td>ROLB</td>\n",
       "      <td>Def</td>\n",
       "    </tr>\n",
       "    <tr>\n",
       "      <th>13</th>\n",
       "      <td>WR</td>\n",
       "      <td>Off</td>\n",
       "    </tr>\n",
       "    <tr>\n",
       "      <th>14</th>\n",
       "      <td>TE</td>\n",
       "      <td>Off</td>\n",
       "    </tr>\n",
       "    <tr>\n",
       "      <th>15</th>\n",
       "      <td>DT</td>\n",
       "      <td>Def</td>\n",
       "    </tr>\n",
       "    <tr>\n",
       "      <th>16</th>\n",
       "      <td>K</td>\n",
       "      <td>sTeams</td>\n",
       "    </tr>\n",
       "    <tr>\n",
       "      <th>17</th>\n",
       "      <td>RE</td>\n",
       "      <td>Def</td>\n",
       "    </tr>\n",
       "    <tr>\n",
       "      <th>18</th>\n",
       "      <td>CB</td>\n",
       "      <td>Def</td>\n",
       "    </tr>\n",
       "    <tr>\n",
       "      <th>19</th>\n",
       "      <td>RE</td>\n",
       "      <td>Def</td>\n",
       "    </tr>\n",
       "    <tr>\n",
       "      <th>20</th>\n",
       "      <td>ROLB</td>\n",
       "      <td>Def</td>\n",
       "    </tr>\n",
       "    <tr>\n",
       "      <th>21</th>\n",
       "      <td>LOLB</td>\n",
       "      <td>Def</td>\n",
       "    </tr>\n",
       "    <tr>\n",
       "      <th>22</th>\n",
       "      <td>RT</td>\n",
       "      <td>Off</td>\n",
       "    </tr>\n",
       "    <tr>\n",
       "      <th>23</th>\n",
       "      <td>QB</td>\n",
       "      <td>Off</td>\n",
       "    </tr>\n",
       "    <tr>\n",
       "      <th>24</th>\n",
       "      <td>ROLB</td>\n",
       "      <td>Def</td>\n",
       "    </tr>\n",
       "    <tr>\n",
       "      <th>25</th>\n",
       "      <td>DT</td>\n",
       "      <td>Def</td>\n",
       "    </tr>\n",
       "    <tr>\n",
       "      <th>26</th>\n",
       "      <td>CB</td>\n",
       "      <td>Def</td>\n",
       "    </tr>\n",
       "    <tr>\n",
       "      <th>27</th>\n",
       "      <td>WR</td>\n",
       "      <td>Off</td>\n",
       "    </tr>\n",
       "    <tr>\n",
       "      <th>28</th>\n",
       "      <td>P</td>\n",
       "      <td>sTeams</td>\n",
       "    </tr>\n",
       "    <tr>\n",
       "      <th>29</th>\n",
       "      <td>QB</td>\n",
       "      <td>Off</td>\n",
       "    </tr>\n",
       "    <tr>\n",
       "      <th>...</th>\n",
       "      <td>...</td>\n",
       "      <td>...</td>\n",
       "    </tr>\n",
       "    <tr>\n",
       "      <th>2323</th>\n",
       "      <td>RG</td>\n",
       "      <td>Off</td>\n",
       "    </tr>\n",
       "    <tr>\n",
       "      <th>2324</th>\n",
       "      <td>RT</td>\n",
       "      <td>Off</td>\n",
       "    </tr>\n",
       "    <tr>\n",
       "      <th>2325</th>\n",
       "      <td>FS</td>\n",
       "      <td>Def</td>\n",
       "    </tr>\n",
       "    <tr>\n",
       "      <th>2326</th>\n",
       "      <td>TE</td>\n",
       "      <td>Off</td>\n",
       "    </tr>\n",
       "    <tr>\n",
       "      <th>2327</th>\n",
       "      <td>ROLB</td>\n",
       "      <td>Def</td>\n",
       "    </tr>\n",
       "    <tr>\n",
       "      <th>2328</th>\n",
       "      <td>WR</td>\n",
       "      <td>Off</td>\n",
       "    </tr>\n",
       "    <tr>\n",
       "      <th>2329</th>\n",
       "      <td>RT</td>\n",
       "      <td>Off</td>\n",
       "    </tr>\n",
       "    <tr>\n",
       "      <th>2330</th>\n",
       "      <td>LT</td>\n",
       "      <td>Off</td>\n",
       "    </tr>\n",
       "    <tr>\n",
       "      <th>2331</th>\n",
       "      <td>MLB</td>\n",
       "      <td>Def</td>\n",
       "    </tr>\n",
       "    <tr>\n",
       "      <th>2332</th>\n",
       "      <td>HB</td>\n",
       "      <td>Off</td>\n",
       "    </tr>\n",
       "    <tr>\n",
       "      <th>2333</th>\n",
       "      <td>ROLB</td>\n",
       "      <td>Def</td>\n",
       "    </tr>\n",
       "    <tr>\n",
       "      <th>2334</th>\n",
       "      <td>RE</td>\n",
       "      <td>Def</td>\n",
       "    </tr>\n",
       "    <tr>\n",
       "      <th>2335</th>\n",
       "      <td>CB</td>\n",
       "      <td>Def</td>\n",
       "    </tr>\n",
       "    <tr>\n",
       "      <th>2336</th>\n",
       "      <td>DT</td>\n",
       "      <td>Def</td>\n",
       "    </tr>\n",
       "    <tr>\n",
       "      <th>2337</th>\n",
       "      <td>LT</td>\n",
       "      <td>Off</td>\n",
       "    </tr>\n",
       "    <tr>\n",
       "      <th>2338</th>\n",
       "      <td>SS</td>\n",
       "      <td>Def</td>\n",
       "    </tr>\n",
       "    <tr>\n",
       "      <th>2339</th>\n",
       "      <td>RE</td>\n",
       "      <td>Def</td>\n",
       "    </tr>\n",
       "    <tr>\n",
       "      <th>2340</th>\n",
       "      <td>LG</td>\n",
       "      <td>Off</td>\n",
       "    </tr>\n",
       "    <tr>\n",
       "      <th>2341</th>\n",
       "      <td>SS</td>\n",
       "      <td>Def</td>\n",
       "    </tr>\n",
       "    <tr>\n",
       "      <th>2342</th>\n",
       "      <td>WR</td>\n",
       "      <td>Off</td>\n",
       "    </tr>\n",
       "    <tr>\n",
       "      <th>2343</th>\n",
       "      <td>LE</td>\n",
       "      <td>Def</td>\n",
       "    </tr>\n",
       "    <tr>\n",
       "      <th>2344</th>\n",
       "      <td>C</td>\n",
       "      <td>Off</td>\n",
       "    </tr>\n",
       "    <tr>\n",
       "      <th>2345</th>\n",
       "      <td>LG</td>\n",
       "      <td>Off</td>\n",
       "    </tr>\n",
       "    <tr>\n",
       "      <th>2346</th>\n",
       "      <td>LE</td>\n",
       "      <td>Def</td>\n",
       "    </tr>\n",
       "    <tr>\n",
       "      <th>2347</th>\n",
       "      <td>WR</td>\n",
       "      <td>Off</td>\n",
       "    </tr>\n",
       "    <tr>\n",
       "      <th>2348</th>\n",
       "      <td>LOLB</td>\n",
       "      <td>Def</td>\n",
       "    </tr>\n",
       "    <tr>\n",
       "      <th>2349</th>\n",
       "      <td>QB</td>\n",
       "      <td>Off</td>\n",
       "    </tr>\n",
       "    <tr>\n",
       "      <th>2350</th>\n",
       "      <td>TE</td>\n",
       "      <td>Off</td>\n",
       "    </tr>\n",
       "    <tr>\n",
       "      <th>2351</th>\n",
       "      <td>LOLB</td>\n",
       "      <td>Def</td>\n",
       "    </tr>\n",
       "    <tr>\n",
       "      <th>2352</th>\n",
       "      <td>TE</td>\n",
       "      <td>Off</td>\n",
       "    </tr>\n",
       "  </tbody>\n",
       "</table>\n",
       "<p>2353 rows × 2 columns</p>\n",
       "</div>"
      ],
      "text/plain": [
       "     Position pos_class\n",
       "0          FB       Off\n",
       "1         MLB       Def\n",
       "2          WR       Off\n",
       "3          RE       Def\n",
       "4          HB       Off\n",
       "5          LT       Off\n",
       "6          HB       Off\n",
       "7          FS       Def\n",
       "8          LE       Def\n",
       "9          DT       Def\n",
       "10         SS       Def\n",
       "11         LE       Def\n",
       "12       ROLB       Def\n",
       "13         WR       Off\n",
       "14         TE       Off\n",
       "15         DT       Def\n",
       "16          K    sTeams\n",
       "17         RE       Def\n",
       "18         CB       Def\n",
       "19         RE       Def\n",
       "20       ROLB       Def\n",
       "21       LOLB       Def\n",
       "22         RT       Off\n",
       "23         QB       Off\n",
       "24       ROLB       Def\n",
       "25         DT       Def\n",
       "26         CB       Def\n",
       "27         WR       Off\n",
       "28          P    sTeams\n",
       "29         QB       Off\n",
       "...       ...       ...\n",
       "2323       RG       Off\n",
       "2324       RT       Off\n",
       "2325       FS       Def\n",
       "2326       TE       Off\n",
       "2327     ROLB       Def\n",
       "2328       WR       Off\n",
       "2329       RT       Off\n",
       "2330       LT       Off\n",
       "2331      MLB       Def\n",
       "2332       HB       Off\n",
       "2333     ROLB       Def\n",
       "2334       RE       Def\n",
       "2335       CB       Def\n",
       "2336       DT       Def\n",
       "2337       LT       Off\n",
       "2338       SS       Def\n",
       "2339       RE       Def\n",
       "2340       LG       Off\n",
       "2341       SS       Def\n",
       "2342       WR       Off\n",
       "2343       LE       Def\n",
       "2344        C       Off\n",
       "2345       LG       Off\n",
       "2346       LE       Def\n",
       "2347       WR       Off\n",
       "2348     LOLB       Def\n",
       "2349       QB       Off\n",
       "2350       TE       Off\n",
       "2351     LOLB       Def\n",
       "2352       TE       Off\n",
       "\n",
       "[2353 rows x 2 columns]"
      ]
     },
     "execution_count": 20,
     "metadata": {},
     "output_type": "execute_result"
    }
   ],
   "source": [
    "#confirms \n",
    "df[['Position','pos_class']]"
   ]
  },
  {
   "cell_type": "code",
   "execution_count": 24,
   "metadata": {
    "collapsed": true
   },
   "outputs": [],
   "source": [
    "#need to split my data into 70% training 30% testing"
   ]
  },
  {
   "cell_type": "code",
   "execution_count": 25,
   "metadata": {},
   "outputs": [],
   "source": [
    "extra_cols = ['Last Name', 'First Name', 'Position','Birthdate','Years Pro','College','portraitId']\n",
    "df.drop(extra_cols, inplace=True, axis=1)"
   ]
  },
  {
   "cell_type": "code",
   "execution_count": 26,
   "metadata": {},
   "outputs": [
    {
     "data": {
      "text/plain": [
       "Index(['Dev Trait', 'Overall Rating', 'Speed', 'Acceleration', 'Strength',\n",
       "       'Agility', 'Awareness', 'Catching', 'Carrying', 'Throw Power',\n",
       "       'Throw Accuracy', 'Kick Power', 'Kick Accuracy', 'Run Block',\n",
       "       'Pass Block', 'Tackle', 'Jumping', 'Kick Return', 'Injury', 'Stamina',\n",
       "       'Toughness', 'Trucking', 'Elusiveness', 'Ball Carrier Vision',\n",
       "       'Stiff Arm', 'Spin Move', 'Juke Move', 'Impact Blocking',\n",
       "       'Run Block Strength', 'Run Block Footwork', 'Pass Block Strength',\n",
       "       'Pass Block Footwork', 'Power Moves', 'Finesse Moves', 'Block Shedding',\n",
       "       'Pursuit', 'Play Recognition', 'Man Coverage', 'Zone Coverage',\n",
       "       'Spectacular Catch', 'Catch In Traffic', 'Route Running', 'Hit Power',\n",
       "       'Press', 'Release', 'Throw Accuracy Short', 'Throw Accuracy Mid',\n",
       "       'Throw Accuracy Deep', 'Play Action', 'Throw on the Run', 'Height',\n",
       "       'Weight', 'Age', 'Total Salary', 'Signing Bonus', 'Handedness',\n",
       "       'pos_class'],\n",
       "      dtype='object')"
      ]
     },
     "execution_count": 26,
     "metadata": {},
     "output_type": "execute_result"
    }
   ],
   "source": [
    "df.columns"
   ]
  },
  {
   "cell_type": "code",
   "execution_count": 54,
   "metadata": {},
   "outputs": [
    {
     "data": {
      "text/plain": [
       "<seaborn.axisgrid.PairGrid at 0x2aaee0652b0>"
      ]
     },
     "execution_count": 54,
     "metadata": {},
     "output_type": "execute_result"
    },
    {
     "data": {
      "image/png": "[encoded data removed]",
      "text/plain": [
       "<matplotlib.figure.Figure at 0x2aaeceb8320>"
      ]
     },
     "metadata": {},
     "output_type": "display_data"
    }
   ],
   "source": [
    "#EDA section of the analysis \n",
    "#want to look where there is a lot of difference between all three categories\n",
    "#sns.pairplot(df[['Overall Rating','Speed','pos_class']],hue = 'pos_class',diag_kind = 'kde')\n",
    "\n",
    "#df.iloc[:,0:5]\n"
   ]
  },
  {
   "cell_type": "code",
   "execution_count": 70,
   "metadata": {},
   "outputs": [
    {
     "data": {
      "text/plain": [
       "pos_class\n",
       "Def       AxesSubplot(0.125,0.125;0.775x0.755)\n",
       "Off       AxesSubplot(0.125,0.125;0.775x0.755)\n",
       "sTeams    AxesSubplot(0.125,0.125;0.775x0.755)\n",
       "Name: Speed, dtype: object"
      ]
     },
     "execution_count": 70,
     "metadata": {},
     "output_type": "execute_result"
    },
    {
     "data": {
      "image/png": "[encoded data removed]",
      "text/plain": [
       "<matplotlib.figure.Figure at 0x2aaf230da20>"
      ]
     },
     "metadata": {},
     "output_type": "display_data"
    }
   ],
   "source": [
    "plt.style.use('seaborn')\n",
    "df.groupby('pos_class')['Speed'].plot(kind = 'hist', alpha = .4, legend = True)"
   ]
  },
  {
   "cell_type": "code",
   "execution_count": 83,
   "metadata": {},
   "outputs": [
    {
     "ename": "TypeError",
     "evalue": "Series.name must be a hashable type",
     "output_type": "error",
     "traceback": [
      "\u001b[1;31m---------------------------------------------------------------------------\u001b[0m",
      "\u001b[1;31mAttributeError\u001b[0m                            Traceback (most recent call last)",
      "\u001b[1;32m~\\Anaconda3\\lib\\site-packages\\pandas\\core\\groupby.py\u001b[0m in \u001b[0;36m_wrap_applied_output\u001b[1;34m(self, keys, values, not_indexed_same)\u001b[0m\n\u001b[0;32m   3681\u001b[0m                         \u001b[1;31m# then propagate that name to the result.\u001b[0m\u001b[1;33m\u001b[0m\u001b[1;33m\u001b[0m\u001b[0m\n\u001b[1;32m-> 3682\u001b[1;33m                         \u001b[0mindex\u001b[0m \u001b[1;33m=\u001b[0m \u001b[0mv\u001b[0m\u001b[1;33m.\u001b[0m\u001b[0mindex\u001b[0m\u001b[1;33m.\u001b[0m\u001b[0mcopy\u001b[0m\u001b[1;33m(\u001b[0m\u001b[1;33m)\u001b[0m\u001b[1;33m\u001b[0m\u001b[0m\n\u001b[0m\u001b[0;32m   3683\u001b[0m                         \u001b[1;32mif\u001b[0m \u001b[0mindex\u001b[0m\u001b[1;33m.\u001b[0m\u001b[0mname\u001b[0m \u001b[1;32mis\u001b[0m \u001b[1;32mNone\u001b[0m\u001b[1;33m:\u001b[0m\u001b[1;33m\u001b[0m\u001b[0m\n",
      "\u001b[1;31mAttributeError\u001b[0m: 'numpy.ndarray' object has no attribute 'index'",
      "\nDuring handling of the above exception, another exception occurred:\n",
      "\u001b[1;31mTypeError\u001b[0m                                 Traceback (most recent call last)",
      "\u001b[1;32m<ipython-input-83-84cd2b4244cf>\u001b[0m in \u001b[0;36m<module>\u001b[1;34m()\u001b[0m\n\u001b[1;32m----> 1\u001b[1;33m \u001b[0mdf\u001b[0m\u001b[1;33m.\u001b[0m\u001b[0mgroupby\u001b[0m\u001b[1;33m(\u001b[0m\u001b[1;34m'pos_class'\u001b[0m\u001b[1;33m)\u001b[0m\u001b[1;33m[\u001b[0m\u001b[1;34m'Speed'\u001b[0m\u001b[1;33m,\u001b[0m\u001b[1;34m\"Acceleration\"\u001b[0m\u001b[1;33m]\u001b[0m\u001b[1;33m.\u001b[0m\u001b[0mplot\u001b[0m\u001b[1;33m(\u001b[0m\u001b[0mkind\u001b[0m \u001b[1;33m=\u001b[0m \u001b[1;34m'hist'\u001b[0m\u001b[1;33m,\u001b[0m \u001b[0malpha\u001b[0m \u001b[1;33m=\u001b[0m \u001b[1;36m.4\u001b[0m\u001b[1;33m,\u001b[0m \u001b[0mlegend\u001b[0m \u001b[1;33m=\u001b[0m \u001b[1;32mTrue\u001b[0m\u001b[1;33m,\u001b[0m\u001b[0msubplots\u001b[0m \u001b[1;33m=\u001b[0m \u001b[1;32mTrue\u001b[0m\u001b[1;33m)\u001b[0m\u001b[1;33m\u001b[0m\u001b[0m\n\u001b[0m",
      "\u001b[1;32m~\\Anaconda3\\lib\\site-packages\\pandas\\core\\groupby.py\u001b[0m in \u001b[0;36m__call__\u001b[1;34m(self, *args, **kwargs)\u001b[0m\n\u001b[0;32m    347\u001b[0m             \u001b[1;32mreturn\u001b[0m \u001b[0mself\u001b[0m\u001b[1;33m.\u001b[0m\u001b[0mplot\u001b[0m\u001b[1;33m(\u001b[0m\u001b[1;33m*\u001b[0m\u001b[0margs\u001b[0m\u001b[1;33m,\u001b[0m \u001b[1;33m**\u001b[0m\u001b[0mkwargs\u001b[0m\u001b[1;33m)\u001b[0m\u001b[1;33m\u001b[0m\u001b[0m\n\u001b[0;32m    348\u001b[0m         \u001b[0mf\u001b[0m\u001b[1;33m.\u001b[0m\u001b[0m__name__\u001b[0m \u001b[1;33m=\u001b[0m \u001b[1;34m'plot'\u001b[0m\u001b[1;33m\u001b[0m\u001b[0m\n\u001b[1;32m--> 349\u001b[1;33m         \u001b[1;32mreturn\u001b[0m \u001b[0mself\u001b[0m\u001b[1;33m.\u001b[0m\u001b[0m_groupby\u001b[0m\u001b[1;33m.\u001b[0m\u001b[0mapply\u001b[0m\u001b[1;33m(\u001b[0m\u001b[0mf\u001b[0m\u001b[1;33m)\u001b[0m\u001b[1;33m\u001b[0m\u001b[0m\n\u001b[0m\u001b[0;32m    350\u001b[0m \u001b[1;33m\u001b[0m\u001b[0m\n\u001b[0;32m    351\u001b[0m     \u001b[1;32mdef\u001b[0m \u001b[0m__getattr__\u001b[0m\u001b[1;33m(\u001b[0m\u001b[0mself\u001b[0m\u001b[1;33m,\u001b[0m \u001b[0mname\u001b[0m\u001b[1;33m)\u001b[0m\u001b[1;33m:\u001b[0m\u001b[1;33m\u001b[0m\u001b[0m\n",
      "\u001b[1;32m~\\Anaconda3\\lib\\site-packages\\pandas\\core\\groupby.py\u001b[0m in \u001b[0;36mapply\u001b[1;34m(self, func, *args, **kwargs)\u001b[0m\n\u001b[0;32m    714\u001b[0m         \u001b[1;31m# ignore SettingWithCopy here in case the user mutates\u001b[0m\u001b[1;33m\u001b[0m\u001b[1;33m\u001b[0m\u001b[0m\n\u001b[0;32m    715\u001b[0m         \u001b[1;32mwith\u001b[0m \u001b[0moption_context\u001b[0m\u001b[1;33m(\u001b[0m\u001b[1;34m'mode.chained_assignment'\u001b[0m\u001b[1;33m,\u001b[0m \u001b[1;32mNone\u001b[0m\u001b[1;33m)\u001b[0m\u001b[1;33m:\u001b[0m\u001b[1;33m\u001b[0m\u001b[0m\n\u001b[1;32m--> 716\u001b[1;33m             \u001b[1;32mreturn\u001b[0m \u001b[0mself\u001b[0m\u001b[1;33m.\u001b[0m\u001b[0m_python_apply_general\u001b[0m\u001b[1;33m(\u001b[0m\u001b[0mf\u001b[0m\u001b[1;33m)\u001b[0m\u001b[1;33m\u001b[0m\u001b[0m\n\u001b[0m\u001b[0;32m    717\u001b[0m \u001b[1;33m\u001b[0m\u001b[0m\n\u001b[0;32m    718\u001b[0m     \u001b[1;32mdef\u001b[0m \u001b[0m_python_apply_general\u001b[0m\u001b[1;33m(\u001b[0m\u001b[0mself\u001b[0m\u001b[1;33m,\u001b[0m \u001b[0mf\u001b[0m\u001b[1;33m)\u001b[0m\u001b[1;33m:\u001b[0m\u001b[1;33m\u001b[0m\u001b[0m\n",
      "\u001b[1;32m~\\Anaconda3\\lib\\site-packages\\pandas\\core\\groupby.py\u001b[0m in \u001b[0;36m_python_apply_general\u001b[1;34m(self, f)\u001b[0m\n\u001b[0;32m    723\u001b[0m             \u001b[0mkeys\u001b[0m\u001b[1;33m,\u001b[0m\u001b[1;33m\u001b[0m\u001b[0m\n\u001b[0;32m    724\u001b[0m             \u001b[0mvalues\u001b[0m\u001b[1;33m,\u001b[0m\u001b[1;33m\u001b[0m\u001b[0m\n\u001b[1;32m--> 725\u001b[1;33m             not_indexed_same=mutated or self.mutated)\n\u001b[0m\u001b[0;32m    726\u001b[0m \u001b[1;33m\u001b[0m\u001b[0m\n\u001b[0;32m    727\u001b[0m     \u001b[1;32mdef\u001b[0m \u001b[0m_iterate_slices\u001b[0m\u001b[1;33m(\u001b[0m\u001b[0mself\u001b[0m\u001b[1;33m)\u001b[0m\u001b[1;33m:\u001b[0m\u001b[1;33m\u001b[0m\u001b[0m\n",
      "\u001b[1;32m~\\Anaconda3\\lib\\site-packages\\pandas\\core\\groupby.py\u001b[0m in \u001b[0;36m_wrap_applied_output\u001b[1;34m(self, keys, values, not_indexed_same)\u001b[0m\n\u001b[0;32m   3714\u001b[0m                     \u001b[1;31m# through to the outer else caluse\u001b[0m\u001b[1;33m\u001b[0m\u001b[1;33m\u001b[0m\u001b[0m\n\u001b[0;32m   3715\u001b[0m                     return Series(values, index=key_index,\n\u001b[1;32m-> 3716\u001b[1;33m                                   name=self._selection_name)\n\u001b[0m\u001b[0;32m   3717\u001b[0m \u001b[1;33m\u001b[0m\u001b[0m\n\u001b[0;32m   3718\u001b[0m                 \u001b[1;31m# if we have date/time like in the original, then coerce dates\u001b[0m\u001b[1;33m\u001b[0m\u001b[1;33m\u001b[0m\u001b[0m\n",
      "\u001b[1;32m~\\Anaconda3\\lib\\site-packages\\pandas\\core\\series.py\u001b[0m in \u001b[0;36m__init__\u001b[1;34m(self, data, index, dtype, name, copy, fastpath)\u001b[0m\n\u001b[0;32m    252\u001b[0m         \u001b[0mgeneric\u001b[0m\u001b[1;33m.\u001b[0m\u001b[0mNDFrame\u001b[0m\u001b[1;33m.\u001b[0m\u001b[0m__init__\u001b[0m\u001b[1;33m(\u001b[0m\u001b[0mself\u001b[0m\u001b[1;33m,\u001b[0m \u001b[0mdata\u001b[0m\u001b[1;33m,\u001b[0m \u001b[0mfastpath\u001b[0m\u001b[1;33m=\u001b[0m\u001b[1;32mTrue\u001b[0m\u001b[1;33m)\u001b[0m\u001b[1;33m\u001b[0m\u001b[0m\n\u001b[0;32m    253\u001b[0m \u001b[1;33m\u001b[0m\u001b[0m\n\u001b[1;32m--> 254\u001b[1;33m         \u001b[0mself\u001b[0m\u001b[1;33m.\u001b[0m\u001b[0mname\u001b[0m \u001b[1;33m=\u001b[0m \u001b[0mname\u001b[0m\u001b[1;33m\u001b[0m\u001b[0m\n\u001b[0m\u001b[0;32m    255\u001b[0m         \u001b[0mself\u001b[0m\u001b[1;33m.\u001b[0m\u001b[0m_set_axis\u001b[0m\u001b[1;33m(\u001b[0m\u001b[1;36m0\u001b[0m\u001b[1;33m,\u001b[0m \u001b[0mindex\u001b[0m\u001b[1;33m,\u001b[0m \u001b[0mfastpath\u001b[0m\u001b[1;33m=\u001b[0m\u001b[1;32mTrue\u001b[0m\u001b[1;33m)\u001b[0m\u001b[1;33m\u001b[0m\u001b[0m\n\u001b[0;32m    256\u001b[0m \u001b[1;33m\u001b[0m\u001b[0m\n",
      "\u001b[1;32m~\\Anaconda3\\lib\\site-packages\\pandas\\core\\generic.py\u001b[0m in \u001b[0;36m__setattr__\u001b[1;34m(self, name, value)\u001b[0m\n\u001b[0;32m   3101\u001b[0m             \u001b[0mobject\u001b[0m\u001b[1;33m.\u001b[0m\u001b[0m__setattr__\u001b[0m\u001b[1;33m(\u001b[0m\u001b[0mself\u001b[0m\u001b[1;33m,\u001b[0m \u001b[0mname\u001b[0m\u001b[1;33m,\u001b[0m \u001b[0mvalue\u001b[0m\u001b[1;33m)\u001b[0m\u001b[1;33m\u001b[0m\u001b[0m\n\u001b[0;32m   3102\u001b[0m         \u001b[1;32melif\u001b[0m \u001b[0mname\u001b[0m \u001b[1;32min\u001b[0m \u001b[0mself\u001b[0m\u001b[1;33m.\u001b[0m\u001b[0m_metadata\u001b[0m\u001b[1;33m:\u001b[0m\u001b[1;33m\u001b[0m\u001b[0m\n\u001b[1;32m-> 3103\u001b[1;33m             \u001b[0mobject\u001b[0m\u001b[1;33m.\u001b[0m\u001b[0m__setattr__\u001b[0m\u001b[1;33m(\u001b[0m\u001b[0mself\u001b[0m\u001b[1;33m,\u001b[0m \u001b[0mname\u001b[0m\u001b[1;33m,\u001b[0m \u001b[0mvalue\u001b[0m\u001b[1;33m)\u001b[0m\u001b[1;33m\u001b[0m\u001b[0m\n\u001b[0m\u001b[0;32m   3104\u001b[0m         \u001b[1;32melse\u001b[0m\u001b[1;33m:\u001b[0m\u001b[1;33m\u001b[0m\u001b[0m\n\u001b[0;32m   3105\u001b[0m             \u001b[1;32mtry\u001b[0m\u001b[1;33m:\u001b[0m\u001b[1;33m\u001b[0m\u001b[0m\n",
      "\u001b[1;32m~\\Anaconda3\\lib\\site-packages\\pandas\\core\\series.py\u001b[0m in \u001b[0;36mname\u001b[1;34m(self, value)\u001b[0m\n\u001b[0;32m    325\u001b[0m     \u001b[1;32mdef\u001b[0m \u001b[0mname\u001b[0m\u001b[1;33m(\u001b[0m\u001b[0mself\u001b[0m\u001b[1;33m,\u001b[0m \u001b[0mvalue\u001b[0m\u001b[1;33m)\u001b[0m\u001b[1;33m:\u001b[0m\u001b[1;33m\u001b[0m\u001b[0m\n\u001b[0;32m    326\u001b[0m         \u001b[1;32mif\u001b[0m \u001b[0mvalue\u001b[0m \u001b[1;32mis\u001b[0m \u001b[1;32mnot\u001b[0m \u001b[1;32mNone\u001b[0m \u001b[1;32mand\u001b[0m \u001b[1;32mnot\u001b[0m \u001b[0mis_hashable\u001b[0m\u001b[1;33m(\u001b[0m\u001b[0mvalue\u001b[0m\u001b[1;33m)\u001b[0m\u001b[1;33m:\u001b[0m\u001b[1;33m\u001b[0m\u001b[0m\n\u001b[1;32m--> 327\u001b[1;33m             \u001b[1;32mraise\u001b[0m \u001b[0mTypeError\u001b[0m\u001b[1;33m(\u001b[0m\u001b[1;34m'Series.name must be a hashable type'\u001b[0m\u001b[1;33m)\u001b[0m\u001b[1;33m\u001b[0m\u001b[0m\n\u001b[0m\u001b[0;32m    328\u001b[0m         \u001b[0mobject\u001b[0m\u001b[1;33m.\u001b[0m\u001b[0m__setattr__\u001b[0m\u001b[1;33m(\u001b[0m\u001b[0mself\u001b[0m\u001b[1;33m,\u001b[0m \u001b[1;34m'_name'\u001b[0m\u001b[1;33m,\u001b[0m \u001b[0mvalue\u001b[0m\u001b[1;33m)\u001b[0m\u001b[1;33m\u001b[0m\u001b[0m\n\u001b[0;32m    329\u001b[0m \u001b[1;33m\u001b[0m\u001b[0m\n",
      "\u001b[1;31mTypeError\u001b[0m: Series.name must be a hashable type"
     ]
    },
    {
     "data": {
      "image/png": "[encoded data removed]",
      "text/plain": [
       "<matplotlib.figure.Figure at 0x2aaf8e3a668>"
      ]
     },
     "metadata": {},
     "output_type": "display_data"
    },
    {
     "data": {
      "image/png": "[encoded data removed]",
      "text/plain": [
       "<matplotlib.figure.Figure at 0x2aaf8f01d68>"
      ]
     },
     "metadata": {},
     "output_type": "display_data"
    },
    {
     "data": {
      "image/png": "[encoded data removed]",
      "text/plain": [
       "<matplotlib.figure.Figure at 0x2aaf8fd0080>"
      ]
     },
     "metadata": {},
     "output_type": "display_data"
    }
   ],
   "source": [
    "df.groupby('pos_class')['Speed',\"Acceleration\"].plot(kind = 'hist', alpha = .4, legend = True,subplots = True)"
   ]
  },
  {
   "cell_type": "code",
   "execution_count": 89,
   "metadata": {},
   "outputs": [
    {
     "data": {
      "text/plain": [
       "pos_class\n",
       "Def       [[AxesSubplot(0.125,0.125;0.215278x0.755), Axe...\n",
       "Off       [[AxesSubplot(0.125,0.125;0.215278x0.755), Axe...\n",
       "sTeams    [[AxesSubplot(0.125,0.125;0.215278x0.755), Axe...\n",
       "dtype: object"
      ]
     },
     "execution_count": 89,
     "metadata": {},
     "output_type": "execute_result"
    },
    {
     "data": {
      "image/png": "[encoded data removed]",
      "text/plain": [
       "<matplotlib.figure.Figure at 0x2aafb3790f0>"
      ]
     },
     "metadata": {},
     "output_type": "display_data"
    },
    {
     "data": {
      "image/png": "[encoded data removed]",
      "text/plain": [
       "<matplotlib.figure.Figure at 0x2aafb492a90>"
      ]
     },
     "metadata": {},
     "output_type": "display_data"
    },
    {
     "data": {
      "image/png": "[encoded data removed]",
      "text/plain": [
       "<matplotlib.figure.Figure at 0x2aafb5845f8>"
      ]
     },
     "metadata": {},
     "output_type": "display_data"
    }
   ],
   "source": [
    "df[['Overall Rating', 'Speed', 'Acceleration','pos_class']].groupby('pos_class').hist(figsize=(9,3),layout =(1,3))\n",
    "#probably could get away with a ton of variables at a time in need be"
   ]
  },
  {
   "cell_type": "code",
   "execution_count": 90,
   "metadata": {},
   "outputs": [
    {
     "data": {
      "text/plain": [
       "Index(['Dev Trait', 'Overall Rating', 'Speed', 'Acceleration', 'Strength',\n",
       "       'Agility', 'Awareness', 'Catching', 'Carrying', 'Throw Power',\n",
       "       'Throw Accuracy', 'Kick Power', 'Kick Accuracy', 'Run Block',\n",
       "       'Pass Block', 'Tackle', 'Jumping', 'Kick Return', 'Injury', 'Stamina',\n",
       "       'Toughness', 'Trucking', 'Elusiveness', 'Ball Carrier Vision',\n",
       "       'Stiff Arm', 'Spin Move', 'Juke Move', 'Impact Blocking',\n",
       "       'Run Block Strength', 'Run Block Footwork', 'Pass Block Strength',\n",
       "       'Pass Block Footwork', 'Power Moves', 'Finesse Moves', 'Block Shedding',\n",
       "       'Pursuit', 'Play Recognition', 'Man Coverage', 'Zone Coverage',\n",
       "       'Spectacular Catch', 'Catch In Traffic', 'Route Running', 'Hit Power',\n",
       "       'Press', 'Release', 'Throw Accuracy Short', 'Throw Accuracy Mid',\n",
       "       'Throw Accuracy Deep', 'Play Action', 'Throw on the Run', 'Height',\n",
       "       'Weight', 'Age', 'Total Salary', 'Signing Bonus', 'Handedness',\n",
       "       'pos_class'],\n",
       "      dtype='object')"
      ]
     },
     "execution_count": 90,
     "metadata": {},
     "output_type": "execute_result"
    }
   ],
   "source": [
    "df.columns"
   ]
  },
  {
   "cell_type": "code",
   "execution_count": 107,
   "metadata": {
    "collapsed": true
   },
   "outputs": [],
   "source": [
    "#list of stats I want to explore\n",
    "\n",
    "speed_stats = ['Speed', 'Acceleration','Agility','Elusiveness','pos_class']\n",
    "throw_stats = ['Throw Power','Throw Accuracy', 'Throw Accuracy Short', 'Throw Accuracy Mid',\n",
    "               'Throw Accuracy Deep', 'Play Action', 'Throw on the Run','pos_class']\n",
    "special_stats = ['Kick Power', 'Kick Accuracy','pos_class']\n",
    "physical_stats = ['Strength','Injury', 'Stamina','Toughness','Height','Weight', 'Age','pos_class']\n",
    "run_stats = ['Trucking',  'Ball Carrier Vision','Stiff Arm', 'Spin Move', 'Juke Move','pos_class']\n",
    "block_stats = ['Run Block','Pass Block','Impact Blocking','Run Block Strength', \n",
    "               'Run Block Footwork', 'Pass Block Strength','Pass Block Footwork','pos_class']\n",
    "tackle_stats = ['Tackle','Power Moves', 'Finesse Moves', 'Block Shedding','Hit Power','pos_class']\n",
    "wr_stats = ['Spectacular Catch', 'Catch In Traffic', 'Route Running','pos_class']\n",
    "db_stats = ['Play Recognition', 'Man Coverage', 'Zone Coverage','Spectacular Catch','Press', 'Release','pos_class']"
   ]
  },
  {
   "cell_type": "code",
   "execution_count": 119,
   "metadata": {},
   "outputs": [
    {
     "data": {
      "text/plain": [
       "pos_class\n",
       "Def       [[AxesSubplot(0.125,0.125;0.158163x0.755), Axe...\n",
       "Off       [[AxesSubplot(0.125,0.125;0.158163x0.755), Axe...\n",
       "sTeams    [[AxesSubplot(0.125,0.125;0.158163x0.755), Axe...\n",
       "dtype: object"
      ]
     },
     "execution_count": 119,
     "metadata": {},
     "output_type": "execute_result"
    },
    {
     "data": {
      "image/png": "[encoded data removed]",
      "text/plain": [
       "<matplotlib.figure.Figure at 0x2aae3a3aba8>"
      ]
     },
     "metadata": {},
     "output_type": "display_data"
    },
    {
     "data": {
      "image/png": "[encoded data removed]",
      "text/plain": [
       "<matplotlib.figure.Figure at 0x2aaea1a5d30>"
      ]
     },
     "metadata": {},
     "output_type": "display_data"
    },
    {
     "data": {
      "image/png": "[encoded data removed]",
      "text/plain": [
       "<matplotlib.figure.Figure at 0x2aae9d00c88>"
      ]
     },
     "metadata": {},
     "output_type": "display_data"
    }
   ],
   "source": [
    "df[speed_stats].groupby('pos_class').hist(figsize=(9,3),layout= (1,4), bins =20, range=[0, 100])"
   ]
  },
  {
   "cell_type": "code",
   "execution_count": 120,
   "metadata": {},
   "outputs": [
    {
     "data": {
      "text/plain": [
       "pos_class\n",
       "Def       [[AxesSubplot(0.125,0.125;0.336957x0.755), Axe...\n",
       "Off       [[AxesSubplot(0.125,0.125;0.336957x0.755), Axe...\n",
       "sTeams    [[AxesSubplot(0.125,0.125;0.336957x0.755), Axe...\n",
       "dtype: object"
      ]
     },
     "execution_count": 120,
     "metadata": {},
     "output_type": "execute_result"
    },
    {
     "data": {
      "image/png": "[encoded data removed]",
      "text/plain": [
       "<matplotlib.figure.Figure at 0x2aae92bacc0>"
      ]
     },
     "metadata": {},
     "output_type": "display_data"
    },
    {
     "data": {
      "image/png": "[encoded data removed]",
      "text/plain": [
       "<matplotlib.figure.Figure at 0x2aae4ec0e80>"
      ]
     },
     "metadata": {},
     "output_type": "display_data"
    },
    {
     "data": {
      "image/png": "[encoded data removed]",
      "text/plain": [
       "<matplotlib.figure.Figure at 0x2aabc8b91d0>"
      ]
     },
     "metadata": {},
     "output_type": "display_data"
    }
   ],
   "source": [
    "df[special_stats].groupby('pos_class').hist(figsize=(9,3),layout= (1,2),bins =20, range=[0, 100])"
   ]
  },
  {
   "cell_type": "markdown",
   "metadata": {},
   "source": [
    "Above suggests that all you need to do to id special teams is either kick accuracy or kick power.  Based on what I understand I think I only need to look at one moving forward.  So for my model, I'm going to include one or the other and then see how I in terms of accuarcy. \n",
    "\n",
    "So moving foward, going to drop all the instances of speacial teams and see if I can identify any instances where they are super differnet"
   ]
  },
  {
   "cell_type": "code",
   "execution_count": 126,
   "metadata": {},
   "outputs": [],
   "source": [
    "dfOffnDef = df[df['pos_class'] != 'sTeams']"
   ]
  },
  {
   "cell_type": "code",
   "execution_count": 138,
   "metadata": {
    "scrolled": false
   },
   "outputs": [
    {
     "data": {
      "text/plain": [
       "pos_class\n",
       "Def    [[AxesSubplot(0.125,0.125;0.0880682x0.755), Ax...\n",
       "Off    [[AxesSubplot(0.125,0.125;0.0880682x0.755), Ax...\n",
       "dtype: object"
      ]
     },
     "execution_count": 138,
     "metadata": {},
     "output_type": "execute_result"
    },
    {
     "data": {
      "image/png": "[encoded data removed]",
      "text/plain": [
       "<matplotlib.figure.Figure at 0x2aabcbbcf60>"
      ]
     },
     "metadata": {},
     "output_type": "display_data"
    },
    {
     "data": {
      "image/png": "[encoded data removed]",
      "text/plain": [
       "<matplotlib.figure.Figure at 0x2aae4c8d7b8>"
      ]
     },
     "metadata": {},
     "output_type": "display_data"
    }
   ],
   "source": [
    "dfOffnDef[throw_stats].groupby('pos_class').hist(figsize=(15,3),layout = (1,7),bins =20, range=[0, 100], color = 'red')"
   ]
  },
  {
   "cell_type": "code",
   "execution_count": null,
   "metadata": {
    "collapsed": true
   },
   "outputs": [],
   "source": [
    "#based on above, as expected, see a pretty uniform distribution for defense, where players aren't good at throwing\n",
    "#for offense, see the expected bimodal distribution.  Most people can't throw, but the quarterbacks (and maybe some rb and wr)\n",
    "#can as well\n",
    "\n",
    "#let's select two options for it\n",
    "\n",
    "#throw accuracy\n",
    "#throw on the run\n"
   ]
  },
  {
   "cell_type": "code",
   "execution_count": null,
   "metadata": {
    "collapsed": true
   },
   "outputs": [],
   "source": [
    "#Need to look at Seaborn Facegrid.  Might help a lot for what I'm trying to do"
   ]
  },
  {
   "cell_type": "code",
   "execution_count": 76,
   "metadata": {},
   "outputs": [
    {
     "data": {
      "text/plain": [
       "pos_class\n",
       "Def       AxesSubplot(0.125,0.125;0.775x0.755)\n",
       "Off       AxesSubplot(0.125,0.125;0.775x0.755)\n",
       "sTeams    AxesSubplot(0.125,0.125;0.775x0.755)\n",
       "Name: Acceleration, dtype: object"
      ]
     },
     "execution_count": 76,
     "metadata": {},
     "output_type": "execute_result"
    },
    {
     "data": {
      "image/png": "[encoded data removed]",
      "text/plain": [
       "<matplotlib.figure.Figure at 0x2aaf4e38160>"
      ]
     },
     "metadata": {},
     "output_type": "display_data"
    }
   ],
   "source": [
    "df.groupby('pos_class').Acceleration.hist()"
   ]
  },
  {
   "cell_type": "code",
   "execution_count": 69,
   "metadata": {},
   "outputs": [
    {
     "name": "stdout",
     "output_type": "stream",
     "text": [
      "['bmh', 'classic', 'dark_background', 'fast', 'fivethirtyeight', 'ggplot', 'grayscale', 'seaborn-bright', 'seaborn-colorblind', 'seaborn-dark-palette', 'seaborn-dark', 'seaborn-darkgrid', 'seaborn-deep', 'seaborn-muted', 'seaborn-notebook', 'seaborn-paper', 'seaborn-pastel', 'seaborn-poster', 'seaborn-talk', 'seaborn-ticks', 'seaborn-white', 'seaborn-whitegrid', 'seaborn', 'Solarize_Light2', '_classic_test']\n"
     ]
    }
   ],
   "source": [
    "print(plt.style.available)"
   ]
  },
  {
   "cell_type": "code",
   "execution_count": 28,
   "metadata": {
    "collapsed": true
   },
   "outputs": [],
   "source": [
    "#https://towardsdatascience.com/train-test-split-and-cross-validation-in-python-80b61beca4b6\n",
    "\n",
    "\n",
    "#defines pos_class as the target variable (what we are trying to predict)\n",
    "y = df.pos_class\n",
    "\n",
    "\n",
    "#important to understand that in the below code, I am using all variables as training data.  But I need to do some EDA to\n",
    "#determine which variables have differences between the two groups\n",
    "\n",
    "\n",
    "\n",
    "\n",
    "#create training and testing variables\n",
    "X_train, X_test, y_train, y_test = train_test_split(df,y,test_size = 0.2)\n"
   ]
  },
  {
   "cell_type": "code",
   "execution_count": 31,
   "metadata": {},
   "outputs": [
    {
     "name": "stdout",
     "output_type": "stream",
     "text": [
      "(1882, 57) (1882,)\n",
      "(471, 57) (471,)\n"
     ]
    }
   ],
   "source": [
    "print(X_train.shape,y_train.shape)\n",
    "print(X_test.shape,y_test.shape)"
   ]
  },
  {
   "cell_type": "code",
   "execution_count": 32,
   "metadata": {},
   "outputs": [
    {
     "data": {
      "text/html": [
       "<div>\n",
       "<style>\n",
       "    .dataframe thead tr:only-child th {\n",
       "        text-align: right;\n",
       "    }\n",
       "\n",
       "    .dataframe thead th {\n",
       "        text-align: left;\n",
       "    }\n",
       "\n",
       "    .dataframe tbody tr th {\n",
       "        vertical-align: top;\n",
       "    }\n",
       "</style>\n",
       "<table border=\"1\" class=\"dataframe\">\n",
       "  <thead>\n",
       "    <tr style=\"text-align: right;\">\n",
       "      <th></th>\n",
       "      <th>Dev Trait</th>\n",
       "      <th>Overall Rating</th>\n",
       "      <th>Speed</th>\n",
       "      <th>Acceleration</th>\n",
       "      <th>Strength</th>\n",
       "      <th>Agility</th>\n",
       "      <th>Awareness</th>\n",
       "      <th>Catching</th>\n",
       "      <th>Carrying</th>\n",
       "      <th>Throw Power</th>\n",
       "      <th>...</th>\n",
       "      <th>Throw Accuracy Deep</th>\n",
       "      <th>Play Action</th>\n",
       "      <th>Throw on the Run</th>\n",
       "      <th>Height</th>\n",
       "      <th>Weight</th>\n",
       "      <th>Age</th>\n",
       "      <th>Total Salary</th>\n",
       "      <th>Signing Bonus</th>\n",
       "      <th>Handedness</th>\n",
       "      <th>pos_class</th>\n",
       "    </tr>\n",
       "  </thead>\n",
       "  <tbody>\n",
       "    <tr>\n",
       "      <th>1167</th>\n",
       "      <td>-</td>\n",
       "      <td>61</td>\n",
       "      <td>92</td>\n",
       "      <td>90</td>\n",
       "      <td>68</td>\n",
       "      <td>86</td>\n",
       "      <td>49</td>\n",
       "      <td>54</td>\n",
       "      <td>57</td>\n",
       "      <td>27</td>\n",
       "      <td>...</td>\n",
       "      <td>6</td>\n",
       "      <td>6</td>\n",
       "      <td>6</td>\n",
       "      <td>72</td>\n",
       "      <td>186</td>\n",
       "      <td>24</td>\n",
       "      <td>1020000</td>\n",
       "      <td>0</td>\n",
       "      <td>Right</td>\n",
       "      <td>Def</td>\n",
       "    </tr>\n",
       "    <tr>\n",
       "      <th>1384</th>\n",
       "      <td>-</td>\n",
       "      <td>64</td>\n",
       "      <td>90</td>\n",
       "      <td>92</td>\n",
       "      <td>68</td>\n",
       "      <td>87</td>\n",
       "      <td>54</td>\n",
       "      <td>77</td>\n",
       "      <td>69</td>\n",
       "      <td>62</td>\n",
       "      <td>...</td>\n",
       "      <td>47</td>\n",
       "      <td>40</td>\n",
       "      <td>61</td>\n",
       "      <td>69</td>\n",
       "      <td>189</td>\n",
       "      <td>24</td>\n",
       "      <td>1020000</td>\n",
       "      <td>0</td>\n",
       "      <td>Right</td>\n",
       "      <td>Off</td>\n",
       "    </tr>\n",
       "    <tr>\n",
       "      <th>219</th>\n",
       "      <td>-</td>\n",
       "      <td>59</td>\n",
       "      <td>77</td>\n",
       "      <td>81</td>\n",
       "      <td>79</td>\n",
       "      <td>73</td>\n",
       "      <td>41</td>\n",
       "      <td>34</td>\n",
       "      <td>40</td>\n",
       "      <td>24</td>\n",
       "      <td>...</td>\n",
       "      <td>6</td>\n",
       "      <td>6</td>\n",
       "      <td>6</td>\n",
       "      <td>78</td>\n",
       "      <td>276</td>\n",
       "      <td>23</td>\n",
       "      <td>1020000</td>\n",
       "      <td>0</td>\n",
       "      <td>Right</td>\n",
       "      <td>Def</td>\n",
       "    </tr>\n",
       "    <tr>\n",
       "      <th>1252</th>\n",
       "      <td>-</td>\n",
       "      <td>79</td>\n",
       "      <td>90</td>\n",
       "      <td>90</td>\n",
       "      <td>52</td>\n",
       "      <td>92</td>\n",
       "      <td>77</td>\n",
       "      <td>69</td>\n",
       "      <td>62</td>\n",
       "      <td>54</td>\n",
       "      <td>...</td>\n",
       "      <td>38</td>\n",
       "      <td>19</td>\n",
       "      <td>61</td>\n",
       "      <td>71</td>\n",
       "      <td>192</td>\n",
       "      <td>27</td>\n",
       "      <td>2500000</td>\n",
       "      <td>2000000</td>\n",
       "      <td>Right</td>\n",
       "      <td>Def</td>\n",
       "    </tr>\n",
       "    <tr>\n",
       "      <th>1972</th>\n",
       "      <td>-</td>\n",
       "      <td>62</td>\n",
       "      <td>81</td>\n",
       "      <td>83</td>\n",
       "      <td>55</td>\n",
       "      <td>72</td>\n",
       "      <td>54</td>\n",
       "      <td>28</td>\n",
       "      <td>57</td>\n",
       "      <td>89</td>\n",
       "      <td>...</td>\n",
       "      <td>69</td>\n",
       "      <td>72</td>\n",
       "      <td>75</td>\n",
       "      <td>74</td>\n",
       "      <td>220</td>\n",
       "      <td>26</td>\n",
       "      <td>1170000</td>\n",
       "      <td>0</td>\n",
       "      <td>Right</td>\n",
       "      <td>Off</td>\n",
       "    </tr>\n",
       "  </tbody>\n",
       "</table>\n",
       "<p>5 rows × 57 columns</p>\n",
       "</div>"
      ],
      "text/plain": [
       "     Dev Trait  Overall Rating  Speed  Acceleration  Strength  Agility  \\\n",
       "1167         -              61     92            90        68       86   \n",
       "1384         -              64     90            92        68       87   \n",
       "219          -              59     77            81        79       73   \n",
       "1252         -              79     90            90        52       92   \n",
       "1972         -              62     81            83        55       72   \n",
       "\n",
       "      Awareness  Catching  Carrying  Throw Power    ...      \\\n",
       "1167         49        54        57           27    ...       \n",
       "1384         54        77        69           62    ...       \n",
       "219          41        34        40           24    ...       \n",
       "1252         77        69        62           54    ...       \n",
       "1972         54        28        57           89    ...       \n",
       "\n",
       "      Throw Accuracy Deep  Play Action  Throw on the Run  Height  Weight  Age  \\\n",
       "1167                    6            6                 6      72     186   24   \n",
       "1384                   47           40                61      69     189   24   \n",
       "219                     6            6                 6      78     276   23   \n",
       "1252                   38           19                61      71     192   27   \n",
       "1972                   69           72                75      74     220   26   \n",
       "\n",
       "      Total Salary  Signing Bonus  Handedness  pos_class  \n",
       "1167       1020000              0       Right        Def  \n",
       "1384       1020000              0       Right        Off  \n",
       "219        1020000              0       Right        Def  \n",
       "1252       2500000        2000000       Right        Def  \n",
       "1972       1170000              0       Right        Off  \n",
       "\n",
       "[5 rows x 57 columns]"
      ]
     },
     "execution_count": 32,
     "metadata": {},
     "output_type": "execute_result"
    }
   ],
   "source": [
    "#\n",
    "X_train.head()"
   ]
  }
 ],
 "metadata": {
  "kernelspec": {
   "display_name": "Python 3",
   "language": "python",
   "name": "python3"
  },
  "language_info": {
   "codemirror_mode": {
    "name": "ipython",
    "version": 3
   },
   "file_extension": ".py",
   "mimetype": "text/x-python",
   "name": "python",
   "nbconvert_exporter": "python",
   "pygments_lexer": "ipython3",
   "version": "3.6.3"
  }
 },
 "nbformat": 4,
 "nbformat_minor": 1
}
