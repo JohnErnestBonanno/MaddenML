{
 "cells": [
  {
   "cell_type": "markdown",
   "metadata": {},
   "source": [
    "Did somd data processing in the previous post.  So let's now try to get some machine learning.  \n",
    "\n",
    "Specifically want to answer:\n",
    "* Can I get machine learning working?\n",
    "* How accurate is the machine learning?\n",
    "* Can I get similar accuracy with the prioritized variables I discovered in EDA"
   ]
  },
  {
   "cell_type": "code",
   "execution_count": 1,
   "metadata": {
    "collapsed": true
   },
   "outputs": [],
   "source": [
    "import pandas as pd\n",
    "import matplotlib.pyplot as plt\n",
    "import seaborn as sns\n",
    "\n",
    "from sklearn.svm import SVC\n",
    "from sklearn.model_selection import train_test_split\n",
    "from sklearn.metrics import accuracy_score\n",
    "\n",
    "%matplotlib inline"
   ]
  },
  {
   "cell_type": "code",
   "execution_count": 2,
   "metadata": {
    "collapsed": true
   },
   "outputs": [],
   "source": [
    "df = pd.read_csv(\"player_stat_18.csv\")"
   ]
  },
  {
   "cell_type": "code",
   "execution_count": 3,
   "metadata": {
    "collapsed": true
   },
   "outputs": [],
   "source": [
    "#split positions into offense, defense, and special teams\n",
    "off_pos_list = ['C','FB','HB','LG','LT','QB','RG','RT','TE','WR']\n",
    "def_pos_list = ['CB','DT','FS','LE','LOLB','MLB','RE','ROLB','SS']\n",
    "sTeams_pos_list = ['K','P']"
   ]
  },
  {
   "cell_type": "code",
   "execution_count": 4,
   "metadata": {
    "collapsed": true
   },
   "outputs": [],
   "source": [
    "#Creates a new function to put each position into its own category.  \n",
    "def define_pos(x):\n",
    "    if x in off_pos_list:\n",
    "        return('Off')\n",
    "    if x in def_pos_list:\n",
    "        return('Def')\n",
    "    if x in sTeams_pos_list:\n",
    "        return('sTeams')\n",
    "    else:\n",
    "        return(\"Missing\")"
   ]
  },
  {
   "cell_type": "code",
   "execution_count": 5,
   "metadata": {
    "collapsed": true
   },
   "outputs": [],
   "source": [
    "df['pos_class'] = df['Position'].apply(define_pos)"
   ]
  },
  {
   "cell_type": "code",
   "execution_count": 6,
   "metadata": {},
   "outputs": [],
   "source": [
    "extra_cols = ['Dev Trait','Last Name', 'First Name', 'Position','Birthdate','Years Pro','College','portraitId']\n",
    "\n",
    "#extra columns\n",
    "df.drop(extra_cols, inplace=True, axis=1)"
   ]
  },
  {
   "cell_type": "code",
   "execution_count": 7,
   "metadata": {},
   "outputs": [
    {
     "data": {
      "text/html": [
       "<div>\n",
       "<style>\n",
       "    .dataframe thead tr:only-child th {\n",
       "        text-align: right;\n",
       "    }\n",
       "\n",
       "    .dataframe thead th {\n",
       "        text-align: left;\n",
       "    }\n",
       "\n",
       "    .dataframe tbody tr th {\n",
       "        vertical-align: top;\n",
       "    }\n",
       "</style>\n",
       "<table border=\"1\" class=\"dataframe\">\n",
       "  <thead>\n",
       "    <tr style=\"text-align: right;\">\n",
       "      <th></th>\n",
       "      <th>Overall Rating</th>\n",
       "      <th>Speed</th>\n",
       "      <th>Acceleration</th>\n",
       "      <th>Strength</th>\n",
       "      <th>Agility</th>\n",
       "      <th>Awareness</th>\n",
       "      <th>Catching</th>\n",
       "      <th>Carrying</th>\n",
       "      <th>Throw Power</th>\n",
       "      <th>Throw Accuracy</th>\n",
       "      <th>...</th>\n",
       "      <th>Throw Accuracy Deep</th>\n",
       "      <th>Play Action</th>\n",
       "      <th>Throw on the Run</th>\n",
       "      <th>Height</th>\n",
       "      <th>Weight</th>\n",
       "      <th>Age</th>\n",
       "      <th>Total Salary</th>\n",
       "      <th>Signing Bonus</th>\n",
       "      <th>Handedness</th>\n",
       "      <th>pos_class</th>\n",
       "    </tr>\n",
       "  </thead>\n",
       "  <tbody>\n",
       "    <tr>\n",
       "      <th>1158</th>\n",
       "      <td>65</td>\n",
       "      <td>73</td>\n",
       "      <td>89</td>\n",
       "      <td>86</td>\n",
       "      <td>56</td>\n",
       "      <td>61</td>\n",
       "      <td>33</td>\n",
       "      <td>35</td>\n",
       "      <td>19</td>\n",
       "      <td>19</td>\n",
       "      <td>...</td>\n",
       "      <td>6</td>\n",
       "      <td>6</td>\n",
       "      <td>6</td>\n",
       "      <td>77</td>\n",
       "      <td>264</td>\n",
       "      <td>26</td>\n",
       "      <td>1797000</td>\n",
       "      <td>0</td>\n",
       "      <td>Right</td>\n",
       "      <td>Def</td>\n",
       "    </tr>\n",
       "    <tr>\n",
       "      <th>855</th>\n",
       "      <td>69</td>\n",
       "      <td>85</td>\n",
       "      <td>88</td>\n",
       "      <td>80</td>\n",
       "      <td>72</td>\n",
       "      <td>53</td>\n",
       "      <td>34</td>\n",
       "      <td>37</td>\n",
       "      <td>22</td>\n",
       "      <td>20</td>\n",
       "      <td>...</td>\n",
       "      <td>6</td>\n",
       "      <td>6</td>\n",
       "      <td>6</td>\n",
       "      <td>74</td>\n",
       "      <td>271</td>\n",
       "      <td>24</td>\n",
       "      <td>2910000</td>\n",
       "      <td>610000</td>\n",
       "      <td>Right</td>\n",
       "      <td>Def</td>\n",
       "    </tr>\n",
       "    <tr>\n",
       "      <th>1603</th>\n",
       "      <td>63</td>\n",
       "      <td>89</td>\n",
       "      <td>91</td>\n",
       "      <td>65</td>\n",
       "      <td>83</td>\n",
       "      <td>50</td>\n",
       "      <td>80</td>\n",
       "      <td>68</td>\n",
       "      <td>35</td>\n",
       "      <td>31</td>\n",
       "      <td>...</td>\n",
       "      <td>6</td>\n",
       "      <td>6</td>\n",
       "      <td>10</td>\n",
       "      <td>74</td>\n",
       "      <td>200</td>\n",
       "      <td>24</td>\n",
       "      <td>465000</td>\n",
       "      <td>0</td>\n",
       "      <td>Right</td>\n",
       "      <td>Off</td>\n",
       "    </tr>\n",
       "    <tr>\n",
       "      <th>2034</th>\n",
       "      <td>67</td>\n",
       "      <td>88</td>\n",
       "      <td>88</td>\n",
       "      <td>70</td>\n",
       "      <td>91</td>\n",
       "      <td>67</td>\n",
       "      <td>55</td>\n",
       "      <td>73</td>\n",
       "      <td>28</td>\n",
       "      <td>26</td>\n",
       "      <td>...</td>\n",
       "      <td>10</td>\n",
       "      <td>10</td>\n",
       "      <td>10</td>\n",
       "      <td>70</td>\n",
       "      <td>217</td>\n",
       "      <td>23</td>\n",
       "      <td>2520000</td>\n",
       "      <td>180000</td>\n",
       "      <td>Right</td>\n",
       "      <td>Off</td>\n",
       "    </tr>\n",
       "    <tr>\n",
       "      <th>318</th>\n",
       "      <td>76</td>\n",
       "      <td>90</td>\n",
       "      <td>88</td>\n",
       "      <td>65</td>\n",
       "      <td>91</td>\n",
       "      <td>66</td>\n",
       "      <td>84</td>\n",
       "      <td>76</td>\n",
       "      <td>27</td>\n",
       "      <td>27</td>\n",
       "      <td>...</td>\n",
       "      <td>15</td>\n",
       "      <td>20</td>\n",
       "      <td>22</td>\n",
       "      <td>71</td>\n",
       "      <td>199</td>\n",
       "      <td>22</td>\n",
       "      <td>3332000</td>\n",
       "      <td>820000</td>\n",
       "      <td>Right</td>\n",
       "      <td>Off</td>\n",
       "    </tr>\n",
       "  </tbody>\n",
       "</table>\n",
       "<p>5 rows × 56 columns</p>\n",
       "</div>"
      ],
      "text/plain": [
       "      Overall Rating  Speed  Acceleration  Strength  Agility  Awareness  \\\n",
       "1158              65     73            89        86       56         61   \n",
       "855               69     85            88        80       72         53   \n",
       "1603              63     89            91        65       83         50   \n",
       "2034              67     88            88        70       91         67   \n",
       "318               76     90            88        65       91         66   \n",
       "\n",
       "      Catching  Carrying  Throw Power  Throw Accuracy    ...      \\\n",
       "1158        33        35           19              19    ...       \n",
       "855         34        37           22              20    ...       \n",
       "1603        80        68           35              31    ...       \n",
       "2034        55        73           28              26    ...       \n",
       "318         84        76           27              27    ...       \n",
       "\n",
       "      Throw Accuracy Deep  Play Action  Throw on the Run  Height  Weight  Age  \\\n",
       "1158                    6            6                 6      77     264   26   \n",
       "855                     6            6                 6      74     271   24   \n",
       "1603                    6            6                10      74     200   24   \n",
       "2034                   10           10                10      70     217   23   \n",
       "318                    15           20                22      71     199   22   \n",
       "\n",
       "      Total Salary  Signing Bonus  Handedness  pos_class  \n",
       "1158       1797000              0       Right        Def  \n",
       "855        2910000         610000       Right        Def  \n",
       "1603        465000              0       Right        Off  \n",
       "2034       2520000         180000       Right        Off  \n",
       "318        3332000         820000       Right        Off  \n",
       "\n",
       "[5 rows x 56 columns]"
      ]
     },
     "execution_count": 7,
     "metadata": {},
     "output_type": "execute_result"
    }
   ],
   "source": [
    "df.sample(5)\n",
    "# learned can't have strings in your machine learning inputs.  So need to get rid of \"Dev Trait\".\n",
    "#going to write function to convert handedness and pos_class to numbers.  "
   ]
  },
  {
   "cell_type": "code",
   "execution_count": 8,
   "metadata": {},
   "outputs": [],
   "source": [
    "#need to look this up because has to be a better way to do this.\n",
    "#Sklean has something called LabelEncoder which can help (something worth exploring in the future)\n",
    "\n",
    "#Creates a new function to convert each position into a number  \n",
    "def position2number(x):\n",
    "    if x == 'Off':\n",
    "        return(1)\n",
    "    if x == 'Def':\n",
    "        return(2)\n",
    "    if x == 'sTeams':\n",
    "        return(3)\n",
    "    else:\n",
    "        return(4)\n",
    "\n",
    "#Creates a new function to convert each handedness into a number  \n",
    "def hand2number(x):\n",
    "    if x == 'Right':\n",
    "        return(0)\n",
    "    if x == \"Left\":\n",
    "        return(1)\n",
    "    else:\n",
    "        return(2)"
   ]
  },
  {
   "cell_type": "code",
   "execution_count": 9,
   "metadata": {},
   "outputs": [],
   "source": [
    "df['pos_class_num'] = df['pos_class'].apply(position2number)\n",
    "df['hand_num'] = df['Handedness'].apply(hand2number)"
   ]
  },
  {
   "cell_type": "code",
   "execution_count": 10,
   "metadata": {},
   "outputs": [
    {
     "data": {
      "text/html": [
       "<div>\n",
       "<style>\n",
       "    .dataframe thead tr:only-child th {\n",
       "        text-align: right;\n",
       "    }\n",
       "\n",
       "    .dataframe thead th {\n",
       "        text-align: left;\n",
       "    }\n",
       "\n",
       "    .dataframe tbody tr th {\n",
       "        vertical-align: top;\n",
       "    }\n",
       "</style>\n",
       "<table border=\"1\" class=\"dataframe\">\n",
       "  <thead>\n",
       "    <tr style=\"text-align: right;\">\n",
       "      <th></th>\n",
       "      <th>Overall Rating</th>\n",
       "      <th>Speed</th>\n",
       "      <th>Acceleration</th>\n",
       "      <th>Strength</th>\n",
       "      <th>Agility</th>\n",
       "      <th>Awareness</th>\n",
       "      <th>Catching</th>\n",
       "      <th>Carrying</th>\n",
       "      <th>Throw Power</th>\n",
       "      <th>Throw Accuracy</th>\n",
       "      <th>...</th>\n",
       "      <th>Throw Accuracy Deep</th>\n",
       "      <th>Play Action</th>\n",
       "      <th>Throw on the Run</th>\n",
       "      <th>Height</th>\n",
       "      <th>Weight</th>\n",
       "      <th>Age</th>\n",
       "      <th>Total Salary</th>\n",
       "      <th>Signing Bonus</th>\n",
       "      <th>pos_class_num</th>\n",
       "      <th>hand_num</th>\n",
       "    </tr>\n",
       "  </thead>\n",
       "  <tbody>\n",
       "    <tr>\n",
       "      <th>0</th>\n",
       "      <td>91</td>\n",
       "      <td>82</td>\n",
       "      <td>88</td>\n",
       "      <td>79</td>\n",
       "      <td>78</td>\n",
       "      <td>85</td>\n",
       "      <td>70</td>\n",
       "      <td>77</td>\n",
       "      <td>35</td>\n",
       "      <td>32</td>\n",
       "      <td>...</td>\n",
       "      <td>10</td>\n",
       "      <td>10</td>\n",
       "      <td>10</td>\n",
       "      <td>73</td>\n",
       "      <td>240</td>\n",
       "      <td>26</td>\n",
       "      <td>15600000</td>\n",
       "      <td>5000000</td>\n",
       "      <td>1</td>\n",
       "      <td>0</td>\n",
       "    </tr>\n",
       "    <tr>\n",
       "      <th>1</th>\n",
       "      <td>88</td>\n",
       "      <td>83</td>\n",
       "      <td>87</td>\n",
       "      <td>80</td>\n",
       "      <td>83</td>\n",
       "      <td>90</td>\n",
       "      <td>65</td>\n",
       "      <td>50</td>\n",
       "      <td>22</td>\n",
       "      <td>22</td>\n",
       "      <td>...</td>\n",
       "      <td>6</td>\n",
       "      <td>6</td>\n",
       "      <td>6</td>\n",
       "      <td>72</td>\n",
       "      <td>242</td>\n",
       "      <td>29</td>\n",
       "      <td>42750000</td>\n",
       "      <td>10000000</td>\n",
       "      <td>2</td>\n",
       "      <td>2</td>\n",
       "    </tr>\n",
       "    <tr>\n",
       "      <th>2</th>\n",
       "      <td>85</td>\n",
       "      <td>89</td>\n",
       "      <td>91</td>\n",
       "      <td>66</td>\n",
       "      <td>87</td>\n",
       "      <td>92</td>\n",
       "      <td>93</td>\n",
       "      <td>74</td>\n",
       "      <td>35</td>\n",
       "      <td>35</td>\n",
       "      <td>...</td>\n",
       "      <td>6</td>\n",
       "      <td>6</td>\n",
       "      <td>10</td>\n",
       "      <td>72</td>\n",
       "      <td>211</td>\n",
       "      <td>31</td>\n",
       "      <td>35000000</td>\n",
       "      <td>7000000</td>\n",
       "      <td>1</td>\n",
       "      <td>0</td>\n",
       "    </tr>\n",
       "    <tr>\n",
       "      <th>3</th>\n",
       "      <td>83</td>\n",
       "      <td>75</td>\n",
       "      <td>82</td>\n",
       "      <td>78</td>\n",
       "      <td>78</td>\n",
       "      <td>91</td>\n",
       "      <td>49</td>\n",
       "      <td>40</td>\n",
       "      <td>34</td>\n",
       "      <td>40</td>\n",
       "      <td>...</td>\n",
       "      <td>6</td>\n",
       "      <td>6</td>\n",
       "      <td>6</td>\n",
       "      <td>71</td>\n",
       "      <td>255</td>\n",
       "      <td>33</td>\n",
       "      <td>5000000</td>\n",
       "      <td>2000000</td>\n",
       "      <td>2</td>\n",
       "      <td>0</td>\n",
       "    </tr>\n",
       "    <tr>\n",
       "      <th>4</th>\n",
       "      <td>83</td>\n",
       "      <td>88</td>\n",
       "      <td>90</td>\n",
       "      <td>81</td>\n",
       "      <td>91</td>\n",
       "      <td>84</td>\n",
       "      <td>68</td>\n",
       "      <td>82</td>\n",
       "      <td>35</td>\n",
       "      <td>30</td>\n",
       "      <td>...</td>\n",
       "      <td>20</td>\n",
       "      <td>15</td>\n",
       "      <td>15</td>\n",
       "      <td>72</td>\n",
       "      <td>228</td>\n",
       "      <td>26</td>\n",
       "      <td>3600000</td>\n",
       "      <td>1600000</td>\n",
       "      <td>1</td>\n",
       "      <td>0</td>\n",
       "    </tr>\n",
       "  </tbody>\n",
       "</table>\n",
       "<p>5 rows × 56 columns</p>\n",
       "</div>"
      ],
      "text/plain": [
       "   Overall Rating  Speed  Acceleration  Strength  Agility  Awareness  \\\n",
       "0              91     82            88        79       78         85   \n",
       "1              88     83            87        80       83         90   \n",
       "2              85     89            91        66       87         92   \n",
       "3              83     75            82        78       78         91   \n",
       "4              83     88            90        81       91         84   \n",
       "\n",
       "   Catching  Carrying  Throw Power  Throw Accuracy    ...     \\\n",
       "0        70        77           35              32    ...      \n",
       "1        65        50           22              22    ...      \n",
       "2        93        74           35              35    ...      \n",
       "3        49        40           34              40    ...      \n",
       "4        68        82           35              30    ...      \n",
       "\n",
       "   Throw Accuracy Deep  Play Action  Throw on the Run  Height  Weight  Age  \\\n",
       "0                   10           10                10      73     240   26   \n",
       "1                    6            6                 6      72     242   29   \n",
       "2                    6            6                10      72     211   31   \n",
       "3                    6            6                 6      71     255   33   \n",
       "4                   20           15                15      72     228   26   \n",
       "\n",
       "   Total Salary  Signing Bonus  pos_class_num  hand_num  \n",
       "0      15600000        5000000              1         0  \n",
       "1      42750000       10000000              2         2  \n",
       "2      35000000        7000000              1         0  \n",
       "3       5000000        2000000              2         0  \n",
       "4       3600000        1600000              1         0  \n",
       "\n",
       "[5 rows x 56 columns]"
      ]
     },
     "execution_count": 10,
     "metadata": {},
     "output_type": "execute_result"
    }
   ],
   "source": [
    "df.drop(['Handedness','pos_class'], inplace=True, axis=1)\n",
    "df.head()"
   ]
  },
  {
   "cell_type": "markdown",
   "metadata": {},
   "source": [
    "# Machine Learning"
   ]
  },
  {
   "cell_type": "code",
   "execution_count": 11,
   "metadata": {},
   "outputs": [],
   "source": [
    "#https://towardsdatascience.com/train-test-split-and-cross-validation-in-python-80b61beca4b6\n",
    "\n",
    "#defines pos_class as the target variable (what we are trying to predict)\n",
    "y = df.pos_class_num\n",
    "\n",
    "#create training and testing variables\n",
    "X_train, X_test, y_train, y_test = train_test_split(df,y,test_size = 0.2)"
   ]
  },
  {
   "cell_type": "code",
   "execution_count": 12,
   "metadata": {},
   "outputs": [
    {
     "name": "stdout",
     "output_type": "stream",
     "text": [
      "(1882, 56) (1882,)\n",
      "(471, 56) (471,)\n"
     ]
    }
   ],
   "source": [
    "print(X_train.shape,y_train.shape)\n",
    "print(X_test.shape,y_test.shape)"
   ]
  },
  {
   "cell_type": "code",
   "execution_count": 14,
   "metadata": {},
   "outputs": [
    {
     "data": {
      "text/html": [
       "<div>\n",
       "<style>\n",
       "    .dataframe thead tr:only-child th {\n",
       "        text-align: right;\n",
       "    }\n",
       "\n",
       "    .dataframe thead th {\n",
       "        text-align: left;\n",
       "    }\n",
       "\n",
       "    .dataframe tbody tr th {\n",
       "        vertical-align: top;\n",
       "    }\n",
       "</style>\n",
       "<table border=\"1\" class=\"dataframe\">\n",
       "  <thead>\n",
       "    <tr style=\"text-align: right;\">\n",
       "      <th></th>\n",
       "      <th>Overall Rating</th>\n",
       "      <th>Speed</th>\n",
       "      <th>Acceleration</th>\n",
       "      <th>Strength</th>\n",
       "      <th>Agility</th>\n",
       "      <th>Awareness</th>\n",
       "      <th>Catching</th>\n",
       "      <th>Carrying</th>\n",
       "      <th>Throw Power</th>\n",
       "      <th>Throw Accuracy</th>\n",
       "      <th>...</th>\n",
       "      <th>Throw Accuracy Deep</th>\n",
       "      <th>Play Action</th>\n",
       "      <th>Throw on the Run</th>\n",
       "      <th>Height</th>\n",
       "      <th>Weight</th>\n",
       "      <th>Age</th>\n",
       "      <th>Total Salary</th>\n",
       "      <th>Signing Bonus</th>\n",
       "      <th>pos_class_num</th>\n",
       "      <th>hand_num</th>\n",
       "    </tr>\n",
       "  </thead>\n",
       "  <tbody>\n",
       "    <tr>\n",
       "      <th>820</th>\n",
       "      <td>79</td>\n",
       "      <td>95</td>\n",
       "      <td>91</td>\n",
       "      <td>69</td>\n",
       "      <td>85</td>\n",
       "      <td>75</td>\n",
       "      <td>68</td>\n",
       "      <td>63</td>\n",
       "      <td>27</td>\n",
       "      <td>26</td>\n",
       "      <td>...</td>\n",
       "      <td>6</td>\n",
       "      <td>6</td>\n",
       "      <td>6</td>\n",
       "      <td>71</td>\n",
       "      <td>196</td>\n",
       "      <td>23</td>\n",
       "      <td>2470000</td>\n",
       "      <td>130000</td>\n",
       "      <td>2</td>\n",
       "      <td>0</td>\n",
       "    </tr>\n",
       "    <tr>\n",
       "      <th>1945</th>\n",
       "      <td>72</td>\n",
       "      <td>86</td>\n",
       "      <td>88</td>\n",
       "      <td>75</td>\n",
       "      <td>82</td>\n",
       "      <td>73</td>\n",
       "      <td>66</td>\n",
       "      <td>55</td>\n",
       "      <td>30</td>\n",
       "      <td>30</td>\n",
       "      <td>...</td>\n",
       "      <td>6</td>\n",
       "      <td>6</td>\n",
       "      <td>6</td>\n",
       "      <td>75</td>\n",
       "      <td>245</td>\n",
       "      <td>25</td>\n",
       "      <td>7800000</td>\n",
       "      <td>3200000</td>\n",
       "      <td>2</td>\n",
       "      <td>0</td>\n",
       "    </tr>\n",
       "    <tr>\n",
       "      <th>1538</th>\n",
       "      <td>59</td>\n",
       "      <td>77</td>\n",
       "      <td>83</td>\n",
       "      <td>60</td>\n",
       "      <td>72</td>\n",
       "      <td>47</td>\n",
       "      <td>25</td>\n",
       "      <td>61</td>\n",
       "      <td>85</td>\n",
       "      <td>73</td>\n",
       "      <td>...</td>\n",
       "      <td>69</td>\n",
       "      <td>64</td>\n",
       "      <td>75</td>\n",
       "      <td>76</td>\n",
       "      <td>230</td>\n",
       "      <td>26</td>\n",
       "      <td>465000</td>\n",
       "      <td>0</td>\n",
       "      <td>1</td>\n",
       "      <td>0</td>\n",
       "    </tr>\n",
       "    <tr>\n",
       "      <th>1209</th>\n",
       "      <td>70</td>\n",
       "      <td>84</td>\n",
       "      <td>87</td>\n",
       "      <td>66</td>\n",
       "      <td>77</td>\n",
       "      <td>69</td>\n",
       "      <td>55</td>\n",
       "      <td>60</td>\n",
       "      <td>25</td>\n",
       "      <td>35</td>\n",
       "      <td>...</td>\n",
       "      <td>6</td>\n",
       "      <td>6</td>\n",
       "      <td>6</td>\n",
       "      <td>74</td>\n",
       "      <td>224</td>\n",
       "      <td>28</td>\n",
       "      <td>775000</td>\n",
       "      <td>0</td>\n",
       "      <td>2</td>\n",
       "      <td>0</td>\n",
       "    </tr>\n",
       "    <tr>\n",
       "      <th>354</th>\n",
       "      <td>66</td>\n",
       "      <td>86</td>\n",
       "      <td>89</td>\n",
       "      <td>76</td>\n",
       "      <td>82</td>\n",
       "      <td>64</td>\n",
       "      <td>55</td>\n",
       "      <td>62</td>\n",
       "      <td>26</td>\n",
       "      <td>28</td>\n",
       "      <td>...</td>\n",
       "      <td>6</td>\n",
       "      <td>6</td>\n",
       "      <td>6</td>\n",
       "      <td>73</td>\n",
       "      <td>226</td>\n",
       "      <td>25</td>\n",
       "      <td>2000000</td>\n",
       "      <td>120000</td>\n",
       "      <td>2</td>\n",
       "      <td>0</td>\n",
       "    </tr>\n",
       "  </tbody>\n",
       "</table>\n",
       "<p>5 rows × 56 columns</p>\n",
       "</div>"
      ],
      "text/plain": [
       "      Overall Rating  Speed  Acceleration  Strength  Agility  Awareness  \\\n",
       "820               79     95            91        69       85         75   \n",
       "1945              72     86            88        75       82         73   \n",
       "1538              59     77            83        60       72         47   \n",
       "1209              70     84            87        66       77         69   \n",
       "354               66     86            89        76       82         64   \n",
       "\n",
       "      Catching  Carrying  Throw Power  Throw Accuracy    ...     \\\n",
       "820         68        63           27              26    ...      \n",
       "1945        66        55           30              30    ...      \n",
       "1538        25        61           85              73    ...      \n",
       "1209        55        60           25              35    ...      \n",
       "354         55        62           26              28    ...      \n",
       "\n",
       "      Throw Accuracy Deep  Play Action  Throw on the Run  Height  Weight  Age  \\\n",
       "820                     6            6                 6      71     196   23   \n",
       "1945                    6            6                 6      75     245   25   \n",
       "1538                   69           64                75      76     230   26   \n",
       "1209                    6            6                 6      74     224   28   \n",
       "354                     6            6                 6      73     226   25   \n",
       "\n",
       "      Total Salary  Signing Bonus  pos_class_num  hand_num  \n",
       "820        2470000         130000              2         0  \n",
       "1945       7800000        3200000              2         0  \n",
       "1538        465000              0              1         0  \n",
       "1209        775000              0              2         0  \n",
       "354        2000000         120000              2         0  \n",
       "\n",
       "[5 rows x 56 columns]"
      ]
     },
     "execution_count": 14,
     "metadata": {},
     "output_type": "execute_result"
    }
   ],
   "source": [
    "X_train.head()"
   ]
  },
  {
   "cell_type": "code",
   "execution_count": 15,
   "metadata": {},
   "outputs": [
    {
     "data": {
      "text/plain": [
       "820     2\n",
       "1945    2\n",
       "1538    1\n",
       "1209    2\n",
       "354     2\n",
       "Name: pos_class_num, dtype: int64"
      ]
     },
     "execution_count": 15,
     "metadata": {},
     "output_type": "execute_result"
    }
   ],
   "source": [
    "y_train.head()"
   ]
  },
  {
   "cell_type": "code",
   "execution_count": 16,
   "metadata": {},
   "outputs": [],
   "source": [
    "#clf stands for classifier\n",
    "clf = SVC()"
   ]
  },
  {
   "cell_type": "code",
   "execution_count": 17,
   "metadata": {},
   "outputs": [
    {
     "data": {
      "text/plain": [
       "SVC(C=1.0, cache_size=200, class_weight=None, coef0=0.0,\n",
       "  decision_function_shape='ovr', degree=3, gamma='auto', kernel='rbf',\n",
       "  max_iter=-1, probability=False, random_state=None, shrinking=True,\n",
       "  tol=0.001, verbose=False)"
      ]
     },
     "execution_count": 17,
     "metadata": {},
     "output_type": "execute_result"
    }
   ],
   "source": [
    "clf.fit(X_train,y_train)"
   ]
  },
  {
   "cell_type": "code",
   "execution_count": 26,
   "metadata": {
    "collapsed": true
   },
   "outputs": [],
   "source": [
    "pred = clf.predict(X_test)"
   ]
  },
  {
   "cell_type": "code",
   "execution_count": 19,
   "metadata": {
    "collapsed": true
   },
   "outputs": [],
   "source": [
    "acc = accuracy_score(pred,y_test)"
   ]
  },
  {
   "cell_type": "code",
   "execution_count": 27,
   "metadata": {},
   "outputs": [
    {
     "name": "stdout",
     "output_type": "stream",
     "text": [
      "0.51804670913\n"
     ]
    }
   ],
   "source": [
    "print(acc)"
   ]
  },
  {
   "cell_type": "markdown",
   "metadata": {},
   "source": [
    "Wow.  That's really bad.  Let's put the results in a DF and see if we can figure our what's going on.  "
   ]
  },
  {
   "cell_type": "code",
   "execution_count": 40,
   "metadata": {},
   "outputs": [],
   "source": [
    "#want to get pred and b into a df together\n",
    "b = (y_test.as_matrix())\n",
    "results = {'prediction':pred, 'actual':b}"
   ]
  },
  {
   "cell_type": "code",
   "execution_count": 46,
   "metadata": {},
   "outputs": [],
   "source": [
    "final = pd.DataFrame(results)"
   ]
  },
  {
   "cell_type": "code",
   "execution_count": 58,
   "metadata": {},
   "outputs": [
    {
     "data": {
      "text/html": [
       "<div>\n",
       "<style>\n",
       "    .dataframe thead tr:only-child th {\n",
       "        text-align: right;\n",
       "    }\n",
       "\n",
       "    .dataframe thead th {\n",
       "        text-align: left;\n",
       "    }\n",
       "\n",
       "    .dataframe tbody tr th {\n",
       "        vertical-align: top;\n",
       "    }\n",
       "</style>\n",
       "<table border=\"1\" class=\"dataframe\">\n",
       "  <thead>\n",
       "    <tr style=\"text-align: right;\">\n",
       "      <th></th>\n",
       "      <th>actual</th>\n",
       "      <th>prediction</th>\n",
       "    </tr>\n",
       "  </thead>\n",
       "  <tbody>\n",
       "    <tr>\n",
       "      <th>122</th>\n",
       "      <td>3</td>\n",
       "      <td>1</td>\n",
       "    </tr>\n",
       "    <tr>\n",
       "      <th>136</th>\n",
       "      <td>3</td>\n",
       "      <td>1</td>\n",
       "    </tr>\n",
       "    <tr>\n",
       "      <th>143</th>\n",
       "      <td>3</td>\n",
       "      <td>1</td>\n",
       "    </tr>\n",
       "    <tr>\n",
       "      <th>178</th>\n",
       "      <td>3</td>\n",
       "      <td>1</td>\n",
       "    </tr>\n",
       "    <tr>\n",
       "      <th>258</th>\n",
       "      <td>3</td>\n",
       "      <td>1</td>\n",
       "    </tr>\n",
       "    <tr>\n",
       "      <th>363</th>\n",
       "      <td>3</td>\n",
       "      <td>1</td>\n",
       "    </tr>\n",
       "    <tr>\n",
       "      <th>407</th>\n",
       "      <td>3</td>\n",
       "      <td>1</td>\n",
       "    </tr>\n",
       "    <tr>\n",
       "      <th>446</th>\n",
       "      <td>3</td>\n",
       "      <td>1</td>\n",
       "    </tr>\n",
       "  </tbody>\n",
       "</table>\n",
       "</div>"
      ],
      "text/plain": [
       "     actual  prediction\n",
       "122       3           1\n",
       "136       3           1\n",
       "143       3           1\n",
       "178       3           1\n",
       "258       3           1\n",
       "363       3           1\n",
       "407       3           1\n",
       "446       3           1"
      ]
     },
     "execution_count": 58,
     "metadata": {},
     "output_type": "execute_result"
    }
   ],
   "source": [
    "final[final['actual']==3]"
   ]
  },
  {
   "cell_type": "code",
   "execution_count": 57,
   "metadata": {},
   "outputs": [
    {
     "data": {
      "text/plain": [
       "<matplotlib.axes._subplots.AxesSubplot at 0x1b253db07f0>"
      ]
     },
     "execution_count": 57,
     "metadata": {},
     "output_type": "execute_result"
    },
    {
     "data": {
      "image/png": "[encoded data removed]",
      "text/plain": [
       "<matplotlib.figure.Figure at 0x1b253d32da0>"
      ]
     },
     "metadata": {},
     "output_type": "display_data"
    }
   ],
   "source": [
    "sns.regplot(data = final, x=final.actual, y=final.prediction, x_jitter = .1,y_jitter = .1)"
   ]
  },
  {
   "cell_type": "markdown",
   "metadata": {},
   "source": [
    "So first exploration to machine learning was really bad.  I barely did better than a coin flip.  I miss labeled every single observation in the test data except for 1 defense player (which means I go all special teams wrong as well).  But the good news is, the only place to go is up!  So I have two options now.  Try again with the data I prioritized during my EDA or try to fine tune the parameters.  Given all the work I did with my EDA, let's see if can get anything better.  "
   ]
  },
  {
   "cell_type": "code",
   "execution_count": 62,
   "metadata": {},
   "outputs": [],
   "source": [
    "EDA_labels = ['Kick Power','Pursuit','Tackle','Carrying','Run Block','Height','Weight','pos_class_num']\n",
    "df2 = df[EDA_labels]"
   ]
  },
  {
   "cell_type": "code",
   "execution_count": 63,
   "metadata": {},
   "outputs": [
    {
     "data": {
      "text/html": [
       "<div>\n",
       "<style>\n",
       "    .dataframe thead tr:only-child th {\n",
       "        text-align: right;\n",
       "    }\n",
       "\n",
       "    .dataframe thead th {\n",
       "        text-align: left;\n",
       "    }\n",
       "\n",
       "    .dataframe tbody tr th {\n",
       "        vertical-align: top;\n",
       "    }\n",
       "</style>\n",
       "<table border=\"1\" class=\"dataframe\">\n",
       "  <thead>\n",
       "    <tr style=\"text-align: right;\">\n",
       "      <th></th>\n",
       "      <th>Kick Power</th>\n",
       "      <th>Pursuit</th>\n",
       "      <th>Tackle</th>\n",
       "      <th>Carrying</th>\n",
       "      <th>Run Block</th>\n",
       "      <th>Height</th>\n",
       "      <th>Weight</th>\n",
       "      <th>pos_class_num</th>\n",
       "    </tr>\n",
       "  </thead>\n",
       "  <tbody>\n",
       "    <tr>\n",
       "      <th>0</th>\n",
       "      <td>19</td>\n",
       "      <td>48</td>\n",
       "      <td>45</td>\n",
       "      <td>77</td>\n",
       "      <td>71</td>\n",
       "      <td>73</td>\n",
       "      <td>240</td>\n",
       "      <td>1</td>\n",
       "    </tr>\n",
       "    <tr>\n",
       "      <th>1</th>\n",
       "      <td>10</td>\n",
       "      <td>94</td>\n",
       "      <td>92</td>\n",
       "      <td>50</td>\n",
       "      <td>45</td>\n",
       "      <td>72</td>\n",
       "      <td>242</td>\n",
       "      <td>2</td>\n",
       "    </tr>\n",
       "    <tr>\n",
       "      <th>2</th>\n",
       "      <td>30</td>\n",
       "      <td>35</td>\n",
       "      <td>35</td>\n",
       "      <td>74</td>\n",
       "      <td>62</td>\n",
       "      <td>72</td>\n",
       "      <td>211</td>\n",
       "      <td>1</td>\n",
       "    </tr>\n",
       "    <tr>\n",
       "      <th>3</th>\n",
       "      <td>20</td>\n",
       "      <td>88</td>\n",
       "      <td>77</td>\n",
       "      <td>40</td>\n",
       "      <td>45</td>\n",
       "      <td>71</td>\n",
       "      <td>255</td>\n",
       "      <td>2</td>\n",
       "    </tr>\n",
       "    <tr>\n",
       "      <th>4</th>\n",
       "      <td>25</td>\n",
       "      <td>50</td>\n",
       "      <td>25</td>\n",
       "      <td>82</td>\n",
       "      <td>64</td>\n",
       "      <td>72</td>\n",
       "      <td>228</td>\n",
       "      <td>1</td>\n",
       "    </tr>\n",
       "  </tbody>\n",
       "</table>\n",
       "</div>"
      ],
      "text/plain": [
       "   Kick Power  Pursuit  Tackle  Carrying  Run Block  Height  Weight  \\\n",
       "0          19       48      45        77         71      73     240   \n",
       "1          10       94      92        50         45      72     242   \n",
       "2          30       35      35        74         62      72     211   \n",
       "3          20       88      77        40         45      71     255   \n",
       "4          25       50      25        82         64      72     228   \n",
       "\n",
       "   pos_class_num  \n",
       "0              1  \n",
       "1              2  \n",
       "2              1  \n",
       "3              2  \n",
       "4              1  "
      ]
     },
     "execution_count": 63,
     "metadata": {},
     "output_type": "execute_result"
    }
   ],
   "source": [
    "df2.head()"
   ]
  },
  {
   "cell_type": "code",
   "execution_count": 65,
   "metadata": {
    "collapsed": true
   },
   "outputs": [],
   "source": [
    "#Okay let's try round 2!!\n",
    "y = df2.pos_class_num\n",
    "#create training and testing variables\n",
    "X_train, X_test, y_train, y_test = train_test_split(df,y,test_size = 0.2)\n",
    "clf2 = SVC()"
   ]
  },
  {
   "cell_type": "code",
   "execution_count": 67,
   "metadata": {},
   "outputs": [
    {
     "data": {
      "text/plain": [
       "SVC(C=1.0, cache_size=200, class_weight=None, coef0=0.0,\n",
       "  decision_function_shape='ovr', degree=3, gamma='auto', kernel='rbf',\n",
       "  max_iter=-1, probability=False, random_state=None, shrinking=True,\n",
       "  tol=0.001, verbose=False)"
      ]
     },
     "execution_count": 67,
     "metadata": {},
     "output_type": "execute_result"
    }
   ],
   "source": [
    "clf2.fit(X_train,y_train)"
   ]
  },
  {
   "cell_type": "code",
   "execution_count": 68,
   "metadata": {
    "collapsed": true
   },
   "outputs": [],
   "source": [
    "pred = clf2.predict(X_test)"
   ]
  },
  {
   "cell_type": "code",
   "execution_count": 69,
   "metadata": {
    "collapsed": true
   },
   "outputs": [],
   "source": [
    "acc2 = accuracy_score(pred,y_test)"
   ]
  },
  {
   "cell_type": "code",
   "execution_count": 70,
   "metadata": {},
   "outputs": [
    {
     "name": "stdout",
     "output_type": "stream",
     "text": [
      "0.522292993631\n"
     ]
    }
   ],
   "source": [
    "print(acc2)"
   ]
  },
  {
   "cell_type": "code",
   "execution_count": 71,
   "metadata": {
    "collapsed": true
   },
   "outputs": [],
   "source": [
    "#Wow!  Still really bad, but it looks like I improved something\n",
    "b = (y_test.as_matrix())\n",
    "results = {'prediction':pred, 'actual':b}\n",
    "final = pd.DataFrame(results)"
   ]
  },
  {
   "cell_type": "code",
   "execution_count": 75,
   "metadata": {},
   "outputs": [
    {
     "data": {
      "text/html": [
       "<div>\n",
       "<style>\n",
       "    .dataframe thead tr:only-child th {\n",
       "        text-align: right;\n",
       "    }\n",
       "\n",
       "    .dataframe thead th {\n",
       "        text-align: left;\n",
       "    }\n",
       "\n",
       "    .dataframe tbody tr th {\n",
       "        vertical-align: top;\n",
       "    }\n",
       "</style>\n",
       "<table border=\"1\" class=\"dataframe\">\n",
       "  <thead>\n",
       "    <tr style=\"text-align: right;\">\n",
       "      <th></th>\n",
       "      <th>actual</th>\n",
       "      <th>prediction</th>\n",
       "    </tr>\n",
       "  </thead>\n",
       "  <tbody>\n",
       "    <tr>\n",
       "      <th>count</th>\n",
       "      <td>471.000000</td>\n",
       "      <td>471.0</td>\n",
       "    </tr>\n",
       "    <tr>\n",
       "      <th>mean</th>\n",
       "      <td>1.509554</td>\n",
       "      <td>1.0</td>\n",
       "    </tr>\n",
       "    <tr>\n",
       "      <th>std</th>\n",
       "      <td>0.560598</td>\n",
       "      <td>0.0</td>\n",
       "    </tr>\n",
       "    <tr>\n",
       "      <th>min</th>\n",
       "      <td>1.000000</td>\n",
       "      <td>1.0</td>\n",
       "    </tr>\n",
       "    <tr>\n",
       "      <th>25%</th>\n",
       "      <td>1.000000</td>\n",
       "      <td>1.0</td>\n",
       "    </tr>\n",
       "    <tr>\n",
       "      <th>50%</th>\n",
       "      <td>1.000000</td>\n",
       "      <td>1.0</td>\n",
       "    </tr>\n",
       "    <tr>\n",
       "      <th>75%</th>\n",
       "      <td>2.000000</td>\n",
       "      <td>1.0</td>\n",
       "    </tr>\n",
       "    <tr>\n",
       "      <th>max</th>\n",
       "      <td>3.000000</td>\n",
       "      <td>1.0</td>\n",
       "    </tr>\n",
       "  </tbody>\n",
       "</table>\n",
       "</div>"
      ],
      "text/plain": [
       "           actual  prediction\n",
       "count  471.000000       471.0\n",
       "mean     1.509554         1.0\n",
       "std      0.560598         0.0\n",
       "min      1.000000         1.0\n",
       "25%      1.000000         1.0\n",
       "50%      1.000000         1.0\n",
       "75%      2.000000         1.0\n",
       "max      3.000000         1.0"
      ]
     },
     "execution_count": 75,
     "metadata": {},
     "output_type": "execute_result"
    }
   ],
   "source": [
    "final[final['prediction'] != 1] \n",
    "#means that what ever I did, its classfying everything as offense (which was slighly more accurate)\n",
    "final.describe()"
   ]
  }
 ],
 "metadata": {
  "kernelspec": {
   "display_name": "Python 3",
   "language": "python",
   "name": "python3"
  },
  "language_info": {
   "codemirror_mode": {
    "name": "ipython",
    "version": 3
   },
   "file_extension": ".py",
   "mimetype": "text/x-python",
   "name": "python",
   "nbconvert_exporter": "python",
   "pygments_lexer": "ipython3",
   "version": "3.6.3"
  }
 },
 "nbformat": 4,
 "nbformat_minor": 2
}
