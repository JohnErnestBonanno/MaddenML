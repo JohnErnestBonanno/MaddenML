{
 "cells": [
  {
   "cell_type": "code",
   "execution_count": 1,
   "metadata": {
    "collapsed": true
   },
   "outputs": [],
   "source": [
    "import pandas as pd\n",
    "import matplotlib.pyplot as plt\n",
    "import seaborn as sns\n",
    "\n",
    "from sklearn.naive_bayes import GaussianNB \n",
    "from sklearn.model_selection import train_test_split\n",
    "from sklearn.metrics import accuracy_score\n",
    "\n",
    "%matplotlib inline"
   ]
  },
  {
   "cell_type": "code",
   "execution_count": 2,
   "metadata": {
    "collapsed": true
   },
   "outputs": [],
   "source": [
    "df = pd.read_csv(\"player_stat_18.csv\")"
   ]
  },
  {
   "cell_type": "code",
   "execution_count": 3,
   "metadata": {
    "collapsed": true
   },
   "outputs": [],
   "source": [
    "#split positions into offense, defense, and special teams\n",
    "off_pos_list = ['C','FB','HB','LG','LT','QB','RG','RT','TE','WR']\n",
    "def_pos_list = ['CB','DT','FS','LE','LOLB','MLB','RE','ROLB','SS']\n",
    "sTeams_pos_list = ['K','P']"
   ]
  },
  {
   "cell_type": "code",
   "execution_count": 4,
   "metadata": {
    "collapsed": true
   },
   "outputs": [],
   "source": [
    "#Creates a new function to put each position into its own category.  \n",
    "def define_pos(x):\n",
    "    if x in off_pos_list:\n",
    "        return('Off')\n",
    "    if x in def_pos_list:\n",
    "        return('Def')\n",
    "    if x in sTeams_pos_list:\n",
    "        return('sTeams')\n",
    "    else:\n",
    "        return(\"Missing\")"
   ]
  },
  {
   "cell_type": "code",
   "execution_count": 5,
   "metadata": {
    "collapsed": true
   },
   "outputs": [],
   "source": [
    "df['pos_class'] = df['Position'].apply(define_pos)"
   ]
  },
  {
   "cell_type": "code",
   "execution_count": 6,
   "metadata": {
    "collapsed": true
   },
   "outputs": [],
   "source": [
    "extra_cols = ['Dev Trait','Last Name', 'First Name', 'Position','Birthdate','Years Pro','College','portraitId']\n",
    "\n",
    "#extra columns\n",
    "df.drop(extra_cols, inplace=True, axis=1)"
   ]
  },
  {
   "cell_type": "code",
   "execution_count": 7,
   "metadata": {
    "collapsed": true
   },
   "outputs": [],
   "source": [
    "#need to look this up because has to be a better way to do this.\n",
    "#Sklean has something called LabelEncoder which can help (something worth exploring in the future)\n",
    "\n",
    "#Creates a new function to convert each position into a number  \n",
    "def position2number(x):\n",
    "    if x == 'Off':\n",
    "        return(1)\n",
    "    if x == 'Def':\n",
    "        return(2)\n",
    "    if x == 'sTeams':\n",
    "        return(3)\n",
    "    else:\n",
    "        return(4)\n",
    "\n",
    "#Creates a new function to convert each handedness into a number  \n",
    "def hand2number(x):\n",
    "    if x == 'Right':\n",
    "        return(0)\n",
    "    if x == \"Left\":\n",
    "        return(1)\n",
    "    else:\n",
    "        return(2)"
   ]
  },
  {
   "cell_type": "code",
   "execution_count": 8,
   "metadata": {
    "collapsed": true
   },
   "outputs": [],
   "source": [
    "df['pos_class_num'] = df['pos_class'].apply(position2number)\n",
    "df['hand_num'] = df['Handedness'].apply(hand2number)"
   ]
  },
  {
   "cell_type": "code",
   "execution_count": 9,
   "metadata": {
    "collapsed": true
   },
   "outputs": [],
   "source": [
    "df.drop(['Handedness','pos_class'], inplace=True, axis=1)"
   ]
  },
  {
   "cell_type": "code",
   "execution_count": 10,
   "metadata": {
    "collapsed": true
   },
   "outputs": [],
   "source": [
    "EDA_labels = ['Kick Power','Pursuit','Tackle','Carrying','Run Block','Height','Weight','pos_class_num']\n",
    "df2 = df[EDA_labels]"
   ]
  },
  {
   "cell_type": "code",
   "execution_count": 16,
   "metadata": {
    "collapsed": true
   },
   "outputs": [],
   "source": [
    "y = df.pos_class_num\n",
    "#create training and testing variables\n",
    "x_train, x_test, y_train, y_test = train_test_split(df,y,test_size = 0.2)\n",
    "clf = GaussianNB()\n",
    "clf.fit(x_train,y_train)\n",
    "pred = clf.predict(x_test)"
   ]
  },
  {
   "cell_type": "code",
   "execution_count": 17,
   "metadata": {},
   "outputs": [
    {
     "name": "stdout",
     "output_type": "stream",
     "text": [
      "0.447983014862\n"
     ]
    }
   ],
   "source": [
    "acc = accuracy_score(pred, y_test)\n",
    "print(acc)\n",
    "#Ouch it got worse!"
   ]
  },
  {
   "cell_type": "code",
   "execution_count": 18,
   "metadata": {},
   "outputs": [
    {
     "name": "stdout",
     "output_type": "stream",
     "text": [
      "[2 1 2 1 1 2 2 2 2 2 2 2 1 2 2 2 2 2 2 2 2 2 2 2 2 2 2 2 2 2 2 2 2 2 2 2 2\n",
      " 2 2 2 2 1 2 2 2 2 2 2 2 2 1 2 2 2 2 2 2 2 1 2 2 2 2 2 2 2 2 2 2 2 2 1 1 1\n",
      " 2 2 2 1 2 2 2 2 2 2 2 2 1 2 1 2 2 1 2 2 1 1 2 2 2 2 2 2 2 1 2 2 2 2 2 2 2\n",
      " 2 2 2 2 1 2 2 2 2 2 2 2 2 2 1 2 2 2 1 2 2 2 2 2 2 2 2 2 2 2 1 2 2 2 2 2 2\n",
      " 2 2 1 2 2 2 2 2 1 2 2 2 2 2 2 2 2 2 2 2 2 2 2 2 2 2 2 2 2 2 2 2 2 2 2 2 2\n",
      " 1 2 2 2 2 2 2 2 2 1 2 2 1 2 2 2 2 2 2 2 2 2 2 2 2 2 2 2 2 2 2 2 2 1 2 2 2\n",
      " 2 2 2 2 2 2 2 2 1 2 2 2 2 2 2 2 2 2 2 1 2 2 2 2 2 1 2 2 2 2 2 2 2 2 2 2 2\n",
      " 2 2 2 2 2 2 2 2 2 1 2 2 2 2 2 2 2 2 2 2 2 1 2 2 2 2 2 2 2 1 1 2 2 2 2 2 2\n",
      " 2 2 2 2 2 2 2 1 2 2 2 2 2 2 2 2 2 2 2 2 2 2 2 2 2 2 2 2 2 2 2 2 2 2 2 2 2\n",
      " 2 2 2 2 1 2 2 1 2 2 2 2 2 2 2 2 2 2 2 2 2 2 1 2 2 2 2 2 2 1 2 2 2 2 2 2 2\n",
      " 2 2 2 1 1 1 2 2 2 2 2 2 2 2 2 2 1 2 2 1 2 2 2 2 2 2 2 1 2 2 2 2 2 2 2 1 2\n",
      " 2 2 2 2 2 2 2 2 2 2 2 2 2 2 2 2 2 2 2 2 2 2 2 2 2 1 2 2 2 2 2 2 2 2 2 2 2\n",
      " 2 2 2 2 2 2 2 2 2 2 2 2 2 2 2 2 2 2 2 2 2 2 2 2 2 2 2]\n"
     ]
    }
   ],
   "source": [
    "print(pred)\n",
    "#unlike SVM, NaiveBayes defaulted to more people being defense instead of offense"
   ]
  },
  {
   "cell_type": "code",
   "execution_count": 22,
   "metadata": {},
   "outputs": [
    {
     "name": "stdout",
     "output_type": "stream",
     "text": [
      "47\n",
      "424\n",
      "0\n"
     ]
    }
   ],
   "source": [
    "print(list(pred).count(1))\n",
    "print(list(pred).count(2))\n",
    "print(list(pred).count(3))"
   ]
  },
  {
   "cell_type": "code",
   "execution_count": 14,
   "metadata": {
    "collapsed": true
   },
   "outputs": [],
   "source": [
    "y = df2.pos_class_num\n",
    "#create training and testing variables\n",
    "x_train, x_test, y_train, y_test = train_test_split(df,y,test_size = 0.2)\n",
    "clf = GaussianNB()\n",
    "clf.fit(x_train,y_train)\n",
    "pred = clf.predict(x_test)"
   ]
  },
  {
   "cell_type": "code",
   "execution_count": 15,
   "metadata": {},
   "outputs": [
    {
     "name": "stdout",
     "output_type": "stream",
     "text": [
      "0.430997876858\n"
     ]
    }
   ],
   "source": [
    "acc = accuracy_score(pred, y_test)\n",
    "print(acc)\n",
    "#got worse again"
   ]
  }
 ],
 "metadata": {
  "kernelspec": {
   "display_name": "Python 3",
   "language": "python",
   "name": "python3"
  },
  "language_info": {
   "codemirror_mode": {
    "name": "ipython",
    "version": 3
   },
   "file_extension": ".py",
   "mimetype": "text/x-python",
   "name": "python",
   "nbconvert_exporter": "python",
   "pygments_lexer": "ipython3",
   "version": "3.6.3"
  }
 },
 "nbformat": 4,
 "nbformat_minor": 2
}
